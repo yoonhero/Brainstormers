{
 "cells": [
  {
   "cell_type": "code",
   "execution_count": 10,
   "metadata": {},
   "outputs": [],
   "source": [
    "import torch\n",
    "import torch.nn as nn\n",
    "import torch.optim as optim\n",
    "import torch.nn.functional as F\n",
    "from torch.utils.data import Dataset, DataLoader\n",
    "import numpy as np\n",
    "import torchvision.transforms as transforms \n",
    "from torchvision.datasets import MNIST"
   ]
  },
  {
   "cell_type": "code",
   "execution_count": 4,
   "metadata": {},
   "outputs": [],
   "source": [
    "mnist_transform = transforms.Compose([\n",
    "    transforms.ToTensor(),\n",
    "    transforms.Normalize((0.5, ), (1.0))\n",
    "])\n",
    "\n",
    "download_root = \"./MNIST_DATASET\"\n",
    "\n",
    "train_dataset = MNIST(download_root, transform=mnist_transform, train=True, download=True)\n",
    "valid_dataset = MNIST(download_root, transform=mnist_transform, train=False, download=True)\n",
    "test_dataset = MNIST(download_root, transform=mnist_transform, train=False, download=True)"
   ]
  },
  {
   "cell_type": "code",
   "execution_count": 5,
   "metadata": {},
   "outputs": [],
   "source": [
    "batch_size = 64\n",
    "\n",
    "train_loader = DataLoader(dataset=train_dataset, batch_size = batch_size, shuffle = True)\n",
    "\n",
    "valid_loader = DataLoader(dataset=valid_dataset, batch_size=batch_size, shuffle=True)\n",
    "\n",
    "test_loader = DataLoader(dataset=test_dataset, batch_size=batch_size, shuffle=True)"
   ]
  },
  {
   "cell_type": "code",
   "execution_count": 16,
   "metadata": {},
   "outputs": [
    {
     "data": {
      "text/plain": [
       "(torch.Size([64, 1, 28, 28]),\n",
       " torch.Size([64]),\n",
       " tensor([8, 0, 6, 5, 0, 5, 6, 4, 1, 3, 4, 6, 8, 4, 7, 2, 7, 1, 8, 0, 9, 3, 6, 1,\n",
       "         6, 1, 6, 3, 4, 4, 6, 0, 4, 2, 8, 1, 7, 7, 0, 1, 8, 1, 0, 7, 7, 2, 5, 7,\n",
       "         0, 8, 2, 1, 6, 7, 3, 1, 5, 0, 5, 2, 3, 4, 3, 2]))"
      ]
     },
     "execution_count": 16,
     "metadata": {},
     "output_type": "execute_result"
    }
   ],
   "source": [
    "images, labels = next(iter(train_loader))\n",
    "\n",
    "images.shape, labels.shape, labels"
   ]
  },
  {
   "cell_type": "code",
   "execution_count": 11,
   "metadata": {},
   "outputs": [],
   "source": [
    "class NNModel(nn.Module):\n",
    "    def __init__(self, hidden_size):\n",
    "        super().__init__()\n",
    "\n",
    "        self.hidden_size = hidden_size\n",
    "\n",
    "        self.layer = nn.Sequential(\n",
    "            nn.Linear(28*28, hidden_size),\n",
    "            nn.ReLU(),\n",
    "            nn.Linear(hidden_size, hidden_size),\n",
    "            nn.ReLU(),\n",
    "            nn.Linear(hidden_size, 10)\n",
    "        )\n",
    "\n",
    "    def forward(self, x):\n",
    "        return self.layer(x)\n",
    "\n",
    "\n",
    "class BNModel(nn.Module):\n",
    "    def __init__(self, hidden_size):\n",
    "        super().__init__()\n",
    "\n",
    "        self.hidden_size = hidden_size\n",
    "\n",
    "        self.layer = nn.Sequential(\n",
    "            nn.Linear(28*28, hidden_size),\n",
    "            nn.BatchNorm1d(hidden_size),\n",
    "            nn.ReLU(),\n",
    "            nn.Linear(hidden_size, hidden_size),\n",
    "            nn.BatchNorm1d(hidden_size),\n",
    "            nn.ReLU(),\n",
    "            nn.Linear(hidden_size, 10)\n",
    "        )\n",
    "\n",
    "    def forward(self, x):\n",
    "        return self.layer(x)"
   ]
  },
  {
   "cell_type": "code",
   "execution_count": 19,
   "metadata": {},
   "outputs": [
    {
     "data": {
      "text/plain": [
       "device(type='cpu')"
      ]
     },
     "execution_count": 19,
     "metadata": {},
     "output_type": "execute_result"
    }
   ],
   "source": [
    "device = torch.device(\"cuda\" if torch.cuda.is_available() else \"cpu\")\n",
    "\n",
    "device"
   ]
  },
  {
   "cell_type": "code",
   "execution_count": 33,
   "metadata": {},
   "outputs": [],
   "source": [
    "nn_model = NNModel(512).to(device)\n",
    "bn_model = BNModel(512).to(device)"
   ]
  },
  {
   "cell_type": "code",
   "execution_count": 34,
   "metadata": {},
   "outputs": [],
   "source": [
    "nb_epochs = 10\n",
    "lr = 0.01\n",
    "\n",
    "optim_nn = optim.Adam(nn_model.parameters(), lr=lr)\n",
    "optim_bn = optim.Adam(bn_model.parameters(), lr=lr)"
   ]
  },
  {
   "cell_type": "code",
   "execution_count": 35,
   "metadata": {},
   "outputs": [],
   "source": [
    "loss = nn.CrossEntropyLoss()"
   ]
  },
  {
   "cell_type": "code",
   "execution_count": 36,
   "metadata": {},
   "outputs": [
    {
     "name": "stdout",
     "output_type": "stream",
     "text": [
      "Epoch: [1/0] Loss: 2.296948194503784\n",
      "Epoch: [101/0] Loss: 0.31948375701904297\n",
      "Epoch: [201/0] Loss: 0.4745776057243347\n",
      "Epoch: [301/0] Loss: 0.46076008677482605\n",
      "Epoch: [401/0] Loss: 0.24814806878566742\n",
      "Epoch: [501/0] Loss: 0.4919009804725647\n",
      "Epoch: [601/0] Loss: 0.2548016905784607\n",
      "Epoch: [701/0] Loss: 0.6835585236549377\n",
      "Epoch: [801/0] Loss: 0.40767356753349304\n",
      "Epoch: [901/0] Loss: 0.3969203233718872\n",
      "Epoch: [1/1] Loss: 0.3498804569244385\n",
      "Epoch: [101/1] Loss: 0.4220711588859558\n",
      "Epoch: [201/1] Loss: 0.09206794947385788\n",
      "Epoch: [301/1] Loss: 0.27979686856269836\n",
      "Epoch: [401/1] Loss: 0.1187838613986969\n",
      "Epoch: [501/1] Loss: 0.2078983634710312\n",
      "Epoch: [601/1] Loss: 0.21275264024734497\n",
      "Epoch: [701/1] Loss: 0.30423903465270996\n",
      "Epoch: [801/1] Loss: 0.3434825837612152\n",
      "Epoch: [901/1] Loss: 0.46602553129196167\n",
      "Epoch: [1/2] Loss: 0.1093125194311142\n",
      "Epoch: [101/2] Loss: 0.3904871940612793\n",
      "Epoch: [201/2] Loss: 0.12160777300596237\n",
      "Epoch: [301/2] Loss: 0.3618926703929901\n",
      "Epoch: [401/2] Loss: 0.251766175031662\n",
      "Epoch: [501/2] Loss: 0.2642291486263275\n",
      "Epoch: [601/2] Loss: 0.41118767857551575\n",
      "Epoch: [701/2] Loss: 0.16236792504787445\n",
      "Epoch: [801/2] Loss: 0.25150156021118164\n",
      "Epoch: [901/2] Loss: 0.25831839442253113\n",
      "Epoch: [1/3] Loss: 0.3192654550075531\n",
      "Epoch: [101/3] Loss: 0.3447839617729187\n",
      "Epoch: [201/3] Loss: 0.35296982526779175\n",
      "Epoch: [301/3] Loss: 0.23264753818511963\n",
      "Epoch: [401/3] Loss: 0.10387421399354935\n",
      "Epoch: [501/3] Loss: 0.1526605188846588\n",
      "Epoch: [601/3] Loss: 0.11455435305833817\n",
      "Epoch: [701/3] Loss: 0.20635874569416046\n",
      "Epoch: [801/3] Loss: 0.19148729741573334\n",
      "Epoch: [901/3] Loss: 0.19693706929683685\n",
      "Epoch: [1/4] Loss: 0.08622952550649643\n",
      "Epoch: [101/4] Loss: 0.094964399933815\n",
      "Epoch: [201/4] Loss: 0.07634898275136948\n",
      "Epoch: [301/4] Loss: 0.2616557478904724\n",
      "Epoch: [401/4] Loss: 0.1868608295917511\n",
      "Epoch: [501/4] Loss: 0.17773626744747162\n",
      "Epoch: [601/4] Loss: 0.13241803646087646\n",
      "Epoch: [701/4] Loss: 0.13775889575481415\n",
      "Epoch: [801/4] Loss: 0.42879053950309753\n",
      "Epoch: [901/4] Loss: 0.44545140862464905\n",
      "Epoch: [1/5] Loss: 0.1680343747138977\n",
      "Epoch: [101/5] Loss: 0.1684134602546692\n",
      "Epoch: [201/5] Loss: 0.256228506565094\n",
      "Epoch: [301/5] Loss: 0.06958809494972229\n",
      "Epoch: [401/5] Loss: 0.2503591775894165\n",
      "Epoch: [501/5] Loss: 0.2284187525510788\n",
      "Epoch: [601/5] Loss: 0.25333553552627563\n",
      "Epoch: [701/5] Loss: 0.34642481803894043\n",
      "Epoch: [801/5] Loss: 0.3202783465385437\n",
      "Epoch: [901/5] Loss: 0.258255273103714\n",
      "Epoch: [1/6] Loss: 0.11366798728704453\n",
      "Epoch: [101/6] Loss: 0.18498091399669647\n",
      "Epoch: [201/6] Loss: 0.12219808995723724\n",
      "Epoch: [301/6] Loss: 0.1252133548259735\n",
      "Epoch: [401/6] Loss: 0.10125960409641266\n",
      "Epoch: [501/6] Loss: 0.13768932223320007\n",
      "Epoch: [601/6] Loss: 0.2114456743001938\n",
      "Epoch: [701/6] Loss: 0.40582403540611267\n",
      "Epoch: [801/6] Loss: 0.2877524495124817\n",
      "Epoch: [901/6] Loss: 0.1932590752840042\n",
      "Epoch: [1/7] Loss: 0.045155394822359085\n",
      "Epoch: [101/7] Loss: 0.2166024148464203\n",
      "Epoch: [201/7] Loss: 0.16299957036972046\n",
      "Epoch: [301/7] Loss: 0.07517597824335098\n",
      "Epoch: [401/7] Loss: 0.08259512484073639\n",
      "Epoch: [501/7] Loss: 0.09478577971458435\n",
      "Epoch: [601/7] Loss: 0.10483908653259277\n",
      "Epoch: [701/7] Loss: 0.25865691900253296\n",
      "Epoch: [801/7] Loss: 0.20869188010692596\n",
      "Epoch: [901/7] Loss: 0.32506388425827026\n",
      "Epoch: [1/8] Loss: 0.12878426909446716\n",
      "Epoch: [101/8] Loss: 0.11195453256368637\n",
      "Epoch: [201/8] Loss: 0.1844313144683838\n",
      "Epoch: [301/8] Loss: 0.11059778928756714\n",
      "Epoch: [401/8] Loss: 0.1041000708937645\n",
      "Epoch: [501/8] Loss: 0.2068323791027069\n",
      "Epoch: [601/8] Loss: 0.12401352822780609\n",
      "Epoch: [701/8] Loss: 0.16087837517261505\n",
      "Epoch: [801/8] Loss: 0.2845141589641571\n",
      "Epoch: [901/8] Loss: 0.1023334339261055\n",
      "Epoch: [1/9] Loss: 0.09300930798053741\n",
      "Epoch: [101/9] Loss: 0.16145843267440796\n",
      "Epoch: [201/9] Loss: 0.32099807262420654\n",
      "Epoch: [301/9] Loss: 0.17651212215423584\n",
      "Epoch: [401/9] Loss: 0.07643108069896698\n",
      "Epoch: [501/9] Loss: 0.2497788816690445\n",
      "Epoch: [601/9] Loss: 0.19461819529533386\n",
      "Epoch: [701/9] Loss: 0.2959301471710205\n",
      "Epoch: [801/9] Loss: 0.09368415921926498\n",
      "Epoch: [901/9] Loss: 0.07785142213106155\n"
     ]
    }
   ],
   "source": [
    "for epoch in range(nb_epochs):\n",
    "\n",
    "    for i, (images, labels) in enumerate(train_loader):\n",
    "\n",
    "        images, labels = images.to(device), labels.to(device)\n",
    "\n",
    "        images = images.view(-1, 28*28)\n",
    "\n",
    "        prediction = nn_model(images)\n",
    "\n",
    "        cost = loss(prediction, labels)\n",
    "\n",
    "        optim_nn.zero_grad()\n",
    "        cost.backward()\n",
    "        optim_nn.step()\n",
    "\n",
    "        if i % 100 == 0:\n",
    "            print(f\"Epoch: [{i}/{epoch+1}] Loss: {cost}\")"
   ]
  },
  {
   "cell_type": "code",
   "execution_count": 38,
   "metadata": {},
   "outputs": [
    {
     "name": "stdout",
     "output_type": "stream",
     "text": [
      "Epoch: [937/1] Loss: 0.0003268908185418695\n",
      "Epoch: [937/2] Loss: 0.00040221840026788414\n",
      "Epoch: [937/3] Loss: 9.771439181349706e-06\n",
      "Epoch: [937/4] Loss: 0.00014311130507849157\n",
      "Epoch: [937/5] Loss: 7.0154414970602375e-06\n",
      "Epoch: [937/6] Loss: 1.713589699647855e-05\n",
      "Epoch: [937/7] Loss: 1.0815816722242744e-06\n",
      "Epoch: [937/8] Loss: 3.24806896969676e-05\n",
      "Epoch: [937/9] Loss: 2.8255001325305784e-06\n",
      "Epoch: [937/10] Loss: 1.1898594493686687e-05\n"
     ]
    }
   ],
   "source": [
    "bn_model = BNModel(512).to(device)\n",
    "optim_bn = optim.Adam(bn_model.parameters(), lr=0.001)\n",
    "\n",
    "for epoch in range(nb_epochs):\n",
    "    avg_cost = 0\n",
    "    for i, (images, labels) in enumerate(train_loader):\n",
    "\n",
    "        images, labels = images.to(device), labels.to(device)\n",
    "\n",
    "        images = images.view(-1, 28*28)\n",
    "\n",
    "        prediction = bn_model(images)\n",
    "\n",
    "        cost = loss(prediction, labels)\n",
    "        avg_cost += cost\n",
    "\n",
    "        optim_bn.zero_grad()\n",
    "        cost.backward()\n",
    "        optim_bn.step()\n",
    "\n",
    "    print(f\"Epoch: [{epoch+1}/{nb_epochs}] Loss: {cost/len(train_loader)}\")"
   ]
  },
  {
   "cell_type": "code",
   "execution_count": null,
   "metadata": {},
   "outputs": [],
   "source": []
  },
  {
   "attachments": {},
   "cell_type": "markdown",
   "metadata": {},
   "source": [
    "## Without BN\n",
    "\n",
    "0.077\n",
    "\n",
    "## With BN\n",
    "\n",
    "0.000189"
   ]
  }
 ],
 "metadata": {
  "kernelspec": {
   "display_name": "mlenv",
   "language": "python",
   "name": "python3"
  },
  "language_info": {
   "codemirror_mode": {
    "name": "ipython",
    "version": 3
   },
   "file_extension": ".py",
   "mimetype": "text/x-python",
   "name": "python",
   "nbconvert_exporter": "python",
   "pygments_lexer": "ipython3",
   "version": "3.9.6"
  },
  "orig_nbformat": 4,
  "vscode": {
   "interpreter": {
    "hash": "9585e0e58f3ada4c387d89b399b9d9bb88b52954ed4e2235f58d5a052e970ed6"
   }
  }
 },
 "nbformat": 4,
 "nbformat_minor": 2
}
