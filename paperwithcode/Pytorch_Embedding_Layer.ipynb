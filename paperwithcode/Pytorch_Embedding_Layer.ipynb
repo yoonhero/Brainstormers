{
 "cells": [
  {
   "cell_type": "code",
   "execution_count": 1,
   "metadata": {},
   "outputs": [],
   "source": [
    "import torch \n",
    "import torch.nn as nn"
   ]
  },
  {
   "cell_type": "code",
   "execution_count": 2,
   "metadata": {},
   "outputs": [
    {
     "name": "stdout",
     "output_type": "stream",
     "text": [
      "{'need': 2, 'study': 3, 'i': 4, 'to': 5, 'ai': 6, '<unk>': 0, '<pad>': 1}\n"
     ]
    }
   ],
   "source": [
    "train_data = \"i need to study ai\"\n",
    "\n",
    "word_set = set(train_data.split())\n",
    "\n",
    "vocab = {word: i+2 for i, word in enumerate(word_set)}\n",
    "vocab[\"<unk>\"] = 0\n",
    "vocab[\"<pad>\"] = 1\n",
    "print(vocab)"
   ]
  },
  {
   "cell_type": "code",
   "execution_count": 3,
   "metadata": {},
   "outputs": [],
   "source": [
    "embedding_table = torch.FloatTensor([\n",
    "                               [ 0.0,  0.0,  0.0],\n",
    "                               [ 0.0,  0.0,  0.0],\n",
    "                               [ 0.2,  0.9,  0.3],\n",
    "                               [ 0.1,  0.5,  0.7],\n",
    "                               [ 0.2,  0.1,  0.8],\n",
    "                               [ 0.4,  0.1,  0.1],\n",
    "                               [ 0.1,  0.8,  0.9],\n",
    "                               [ 0.6,  0.1,  0.1]])"
   ]
  },
  {
   "cell_type": "code",
   "execution_count": 5,
   "metadata": {},
   "outputs": [
    {
     "name": "stdout",
     "output_type": "stream",
     "text": [
      "tensor([[0.2000, 0.1000, 0.8000],\n",
      "        [0.0000, 0.0000, 0.0000],\n",
      "        [0.0000, 0.0000, 0.0000],\n",
      "        [0.0000, 0.0000, 0.0000],\n",
      "        [0.0000, 0.0000, 0.0000],\n",
      "        [0.0000, 0.0000, 0.0000],\n",
      "        [0.0000, 0.0000, 0.0000],\n",
      "        [0.0000, 0.0000, 0.0000],\n",
      "        [0.0000, 0.0000, 0.0000],\n",
      "        [0.0000, 0.0000, 0.0000]])\n"
     ]
    }
   ],
   "source": [
    "target_length = 10\n",
    "sample = \"i am happy\".split()\n",
    "\n",
    "idxes = []\n",
    "\n",
    "for word in sample:\n",
    "    try:\n",
    "        integer_index = vocab[word]\n",
    "        idxes.append(integer_index)\n",
    "    except KeyError:\n",
    "        idxes.append(vocab[\"<unk>\"])\n",
    "\n",
    "if len(idxes) < target_length:\n",
    "    idxes += [vocab[\"<pad>\"]] * (target_length - len(idxes))\n",
    "\n",
    "lookup_result = embedding_table[idxes,: ]\n",
    "print(lookup_result)"
   ]
  },
  {
   "cell_type": "code",
   "execution_count": 7,
   "metadata": {},
   "outputs": [
    {
     "name": "stdout",
     "output_type": "stream",
     "text": [
      "Parameter containing:\n",
      "tensor([[ 0.4962, -0.7470, -0.6623],\n",
      "        [ 0.0000,  0.0000,  0.0000],\n",
      "        [-1.4584, -0.5342,  0.7229],\n",
      "        [-0.6700, -1.5769, -0.4638],\n",
      "        [ 0.1713, -1.2730, -0.5072],\n",
      "        [ 1.3171,  0.2763,  0.3708],\n",
      "        [ 0.3459,  1.4808,  1.5153]], requires_grad=True)\n"
     ]
    }
   ],
   "source": [
    "embedding_layer = nn.Embedding(num_embeddings=len(vocab), embedding_dim=3, padding_idx=1)\n",
    "\n",
    "print(embedding_layer.weight)"
   ]
  },
  {
   "cell_type": "code",
   "execution_count": 18,
   "metadata": {},
   "outputs": [
    {
     "data": {
      "text/plain": [
       "tensor([[ 0.4962, -0.7470, -0.6623],\n",
       "        [ 0.0000,  0.0000,  0.0000],\n",
       "        [-1.4584, -0.5342,  0.7229],\n",
       "        [-0.6700, -1.5769, -0.4638],\n",
       "        [ 0.1713, -1.2730, -0.5072],\n",
       "        [ 0.0000,  0.0000,  0.0000],\n",
       "        [-1.4584, -0.5342,  0.7229],\n",
       "        [-1.4584, -0.5342,  0.7229]], grad_fn=<EmbeddingBackward0>)"
      ]
     },
     "execution_count": 18,
     "metadata": {},
     "output_type": "execute_result"
    }
   ],
   "source": [
    "embedding_layer(torch.tensor([0, 1, 2, 3, 4, 1, 2, 2]))"
   ]
  },
  {
   "cell_type": "code",
   "execution_count": null,
   "metadata": {},
   "outputs": [],
   "source": []
  }
 ],
 "metadata": {
  "kernelspec": {
   "display_name": "mlenv",
   "language": "python",
   "name": "python3"
  },
  "language_info": {
   "codemirror_mode": {
    "name": "ipython",
    "version": 3
   },
   "file_extension": ".py",
   "mimetype": "text/x-python",
   "name": "python",
   "nbconvert_exporter": "python",
   "pygments_lexer": "ipython3",
   "version": "3.9.6"
  },
  "orig_nbformat": 4,
  "vscode": {
   "interpreter": {
    "hash": "9585e0e58f3ada4c387d89b399b9d9bb88b52954ed4e2235f58d5a052e970ed6"
   }
  }
 },
 "nbformat": 4,
 "nbformat_minor": 2
}
