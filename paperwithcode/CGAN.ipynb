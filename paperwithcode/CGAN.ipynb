{
  "nbformat": 4,
  "nbformat_minor": 0,
  "metadata": {
    "colab": {
      "provenance": [],
      "authorship_tag": "ABX9TyPwN2bNTSG804k/bwJfF7q+",
      "include_colab_link": true
    },
    "kernelspec": {
      "name": "python3",
      "display_name": "Python 3"
    },
    "language_info": {
      "name": "python"
    },
    "accelerator": "GPU",
    "gpuClass": "premium",
    "widgets": {
      "application/vnd.jupyter.widget-state+json": {
        "343680b13127476693ff59c25bbc21a6": {
          "model_module": "@jupyter-widgets/controls",
          "model_name": "HBoxModel",
          "model_module_version": "1.5.0",
          "state": {
            "_dom_classes": [],
            "_model_module": "@jupyter-widgets/controls",
            "_model_module_version": "1.5.0",
            "_model_name": "HBoxModel",
            "_view_count": null,
            "_view_module": "@jupyter-widgets/controls",
            "_view_module_version": "1.5.0",
            "_view_name": "HBoxView",
            "box_style": "",
            "children": [
              "IPY_MODEL_85d3689ec7b644188525081e739e501f",
              "IPY_MODEL_64b2405aaafa402dacb2d8ab09986a10",
              "IPY_MODEL_3133d3fedf544c4ab1605181a01f2b3e"
            ],
            "layout": "IPY_MODEL_85bf1d03f331494b89175fa9923ff0fe"
          }
        },
        "85d3689ec7b644188525081e739e501f": {
          "model_module": "@jupyter-widgets/controls",
          "model_name": "HTMLModel",
          "model_module_version": "1.5.0",
          "state": {
            "_dom_classes": [],
            "_model_module": "@jupyter-widgets/controls",
            "_model_module_version": "1.5.0",
            "_model_name": "HTMLModel",
            "_view_count": null,
            "_view_module": "@jupyter-widgets/controls",
            "_view_module_version": "1.5.0",
            "_view_name": "HTMLView",
            "description": "",
            "description_tooltip": null,
            "layout": "IPY_MODEL_391a4cd9992d40f289b35302b0f3f0bf",
            "placeholder": "​",
            "style": "IPY_MODEL_fc6da09c09654456b44e3208f841ae46",
            "value": "100%"
          }
        },
        "64b2405aaafa402dacb2d8ab09986a10": {
          "model_module": "@jupyter-widgets/controls",
          "model_name": "FloatProgressModel",
          "model_module_version": "1.5.0",
          "state": {
            "_dom_classes": [],
            "_model_module": "@jupyter-widgets/controls",
            "_model_module_version": "1.5.0",
            "_model_name": "FloatProgressModel",
            "_view_count": null,
            "_view_module": "@jupyter-widgets/controls",
            "_view_module_version": "1.5.0",
            "_view_name": "ProgressView",
            "bar_style": "success",
            "description": "",
            "description_tooltip": null,
            "layout": "IPY_MODEL_cc070e45eca74fe0bea28d7a6b21e37a",
            "max": 9912422,
            "min": 0,
            "orientation": "horizontal",
            "style": "IPY_MODEL_7112effc4383431eaf43049724635348",
            "value": 9912422
          }
        },
        "3133d3fedf544c4ab1605181a01f2b3e": {
          "model_module": "@jupyter-widgets/controls",
          "model_name": "HTMLModel",
          "model_module_version": "1.5.0",
          "state": {
            "_dom_classes": [],
            "_model_module": "@jupyter-widgets/controls",
            "_model_module_version": "1.5.0",
            "_model_name": "HTMLModel",
            "_view_count": null,
            "_view_module": "@jupyter-widgets/controls",
            "_view_module_version": "1.5.0",
            "_view_name": "HTMLView",
            "description": "",
            "description_tooltip": null,
            "layout": "IPY_MODEL_a11feb5d415042dda32dd0a5177d9227",
            "placeholder": "​",
            "style": "IPY_MODEL_397dfda3ad734b21854a0d86f2ee8272",
            "value": " 9912422/9912422 [00:00&lt;00:00, 54885200.81it/s]"
          }
        },
        "85bf1d03f331494b89175fa9923ff0fe": {
          "model_module": "@jupyter-widgets/base",
          "model_name": "LayoutModel",
          "model_module_version": "1.2.0",
          "state": {
            "_model_module": "@jupyter-widgets/base",
            "_model_module_version": "1.2.0",
            "_model_name": "LayoutModel",
            "_view_count": null,
            "_view_module": "@jupyter-widgets/base",
            "_view_module_version": "1.2.0",
            "_view_name": "LayoutView",
            "align_content": null,
            "align_items": null,
            "align_self": null,
            "border": null,
            "bottom": null,
            "display": null,
            "flex": null,
            "flex_flow": null,
            "grid_area": null,
            "grid_auto_columns": null,
            "grid_auto_flow": null,
            "grid_auto_rows": null,
            "grid_column": null,
            "grid_gap": null,
            "grid_row": null,
            "grid_template_areas": null,
            "grid_template_columns": null,
            "grid_template_rows": null,
            "height": null,
            "justify_content": null,
            "justify_items": null,
            "left": null,
            "margin": null,
            "max_height": null,
            "max_width": null,
            "min_height": null,
            "min_width": null,
            "object_fit": null,
            "object_position": null,
            "order": null,
            "overflow": null,
            "overflow_x": null,
            "overflow_y": null,
            "padding": null,
            "right": null,
            "top": null,
            "visibility": null,
            "width": null
          }
        },
        "391a4cd9992d40f289b35302b0f3f0bf": {
          "model_module": "@jupyter-widgets/base",
          "model_name": "LayoutModel",
          "model_module_version": "1.2.0",
          "state": {
            "_model_module": "@jupyter-widgets/base",
            "_model_module_version": "1.2.0",
            "_model_name": "LayoutModel",
            "_view_count": null,
            "_view_module": "@jupyter-widgets/base",
            "_view_module_version": "1.2.0",
            "_view_name": "LayoutView",
            "align_content": null,
            "align_items": null,
            "align_self": null,
            "border": null,
            "bottom": null,
            "display": null,
            "flex": null,
            "flex_flow": null,
            "grid_area": null,
            "grid_auto_columns": null,
            "grid_auto_flow": null,
            "grid_auto_rows": null,
            "grid_column": null,
            "grid_gap": null,
            "grid_row": null,
            "grid_template_areas": null,
            "grid_template_columns": null,
            "grid_template_rows": null,
            "height": null,
            "justify_content": null,
            "justify_items": null,
            "left": null,
            "margin": null,
            "max_height": null,
            "max_width": null,
            "min_height": null,
            "min_width": null,
            "object_fit": null,
            "object_position": null,
            "order": null,
            "overflow": null,
            "overflow_x": null,
            "overflow_y": null,
            "padding": null,
            "right": null,
            "top": null,
            "visibility": null,
            "width": null
          }
        },
        "fc6da09c09654456b44e3208f841ae46": {
          "model_module": "@jupyter-widgets/controls",
          "model_name": "DescriptionStyleModel",
          "model_module_version": "1.5.0",
          "state": {
            "_model_module": "@jupyter-widgets/controls",
            "_model_module_version": "1.5.0",
            "_model_name": "DescriptionStyleModel",
            "_view_count": null,
            "_view_module": "@jupyter-widgets/base",
            "_view_module_version": "1.2.0",
            "_view_name": "StyleView",
            "description_width": ""
          }
        },
        "cc070e45eca74fe0bea28d7a6b21e37a": {
          "model_module": "@jupyter-widgets/base",
          "model_name": "LayoutModel",
          "model_module_version": "1.2.0",
          "state": {
            "_model_module": "@jupyter-widgets/base",
            "_model_module_version": "1.2.0",
            "_model_name": "LayoutModel",
            "_view_count": null,
            "_view_module": "@jupyter-widgets/base",
            "_view_module_version": "1.2.0",
            "_view_name": "LayoutView",
            "align_content": null,
            "align_items": null,
            "align_self": null,
            "border": null,
            "bottom": null,
            "display": null,
            "flex": null,
            "flex_flow": null,
            "grid_area": null,
            "grid_auto_columns": null,
            "grid_auto_flow": null,
            "grid_auto_rows": null,
            "grid_column": null,
            "grid_gap": null,
            "grid_row": null,
            "grid_template_areas": null,
            "grid_template_columns": null,
            "grid_template_rows": null,
            "height": null,
            "justify_content": null,
            "justify_items": null,
            "left": null,
            "margin": null,
            "max_height": null,
            "max_width": null,
            "min_height": null,
            "min_width": null,
            "object_fit": null,
            "object_position": null,
            "order": null,
            "overflow": null,
            "overflow_x": null,
            "overflow_y": null,
            "padding": null,
            "right": null,
            "top": null,
            "visibility": null,
            "width": null
          }
        },
        "7112effc4383431eaf43049724635348": {
          "model_module": "@jupyter-widgets/controls",
          "model_name": "ProgressStyleModel",
          "model_module_version": "1.5.0",
          "state": {
            "_model_module": "@jupyter-widgets/controls",
            "_model_module_version": "1.5.0",
            "_model_name": "ProgressStyleModel",
            "_view_count": null,
            "_view_module": "@jupyter-widgets/base",
            "_view_module_version": "1.2.0",
            "_view_name": "StyleView",
            "bar_color": null,
            "description_width": ""
          }
        },
        "a11feb5d415042dda32dd0a5177d9227": {
          "model_module": "@jupyter-widgets/base",
          "model_name": "LayoutModel",
          "model_module_version": "1.2.0",
          "state": {
            "_model_module": "@jupyter-widgets/base",
            "_model_module_version": "1.2.0",
            "_model_name": "LayoutModel",
            "_view_count": null,
            "_view_module": "@jupyter-widgets/base",
            "_view_module_version": "1.2.0",
            "_view_name": "LayoutView",
            "align_content": null,
            "align_items": null,
            "align_self": null,
            "border": null,
            "bottom": null,
            "display": null,
            "flex": null,
            "flex_flow": null,
            "grid_area": null,
            "grid_auto_columns": null,
            "grid_auto_flow": null,
            "grid_auto_rows": null,
            "grid_column": null,
            "grid_gap": null,
            "grid_row": null,
            "grid_template_areas": null,
            "grid_template_columns": null,
            "grid_template_rows": null,
            "height": null,
            "justify_content": null,
            "justify_items": null,
            "left": null,
            "margin": null,
            "max_height": null,
            "max_width": null,
            "min_height": null,
            "min_width": null,
            "object_fit": null,
            "object_position": null,
            "order": null,
            "overflow": null,
            "overflow_x": null,
            "overflow_y": null,
            "padding": null,
            "right": null,
            "top": null,
            "visibility": null,
            "width": null
          }
        },
        "397dfda3ad734b21854a0d86f2ee8272": {
          "model_module": "@jupyter-widgets/controls",
          "model_name": "DescriptionStyleModel",
          "model_module_version": "1.5.0",
          "state": {
            "_model_module": "@jupyter-widgets/controls",
            "_model_module_version": "1.5.0",
            "_model_name": "DescriptionStyleModel",
            "_view_count": null,
            "_view_module": "@jupyter-widgets/base",
            "_view_module_version": "1.2.0",
            "_view_name": "StyleView",
            "description_width": ""
          }
        },
        "32eeba53cd3a4ce482f2262e421221d9": {
          "model_module": "@jupyter-widgets/controls",
          "model_name": "HBoxModel",
          "model_module_version": "1.5.0",
          "state": {
            "_dom_classes": [],
            "_model_module": "@jupyter-widgets/controls",
            "_model_module_version": "1.5.0",
            "_model_name": "HBoxModel",
            "_view_count": null,
            "_view_module": "@jupyter-widgets/controls",
            "_view_module_version": "1.5.0",
            "_view_name": "HBoxView",
            "box_style": "",
            "children": [
              "IPY_MODEL_c1b2c1aa28ee4e61956f0f27f8211473",
              "IPY_MODEL_d1400eee789b4864939bd8c994382385",
              "IPY_MODEL_adf568ac18ea4e0c808ede54881153f0"
            ],
            "layout": "IPY_MODEL_4fb9c09149384d55a863578048ab42f0"
          }
        },
        "c1b2c1aa28ee4e61956f0f27f8211473": {
          "model_module": "@jupyter-widgets/controls",
          "model_name": "HTMLModel",
          "model_module_version": "1.5.0",
          "state": {
            "_dom_classes": [],
            "_model_module": "@jupyter-widgets/controls",
            "_model_module_version": "1.5.0",
            "_model_name": "HTMLModel",
            "_view_count": null,
            "_view_module": "@jupyter-widgets/controls",
            "_view_module_version": "1.5.0",
            "_view_name": "HTMLView",
            "description": "",
            "description_tooltip": null,
            "layout": "IPY_MODEL_5a4638edc6864c5abb9d15e44a987b84",
            "placeholder": "​",
            "style": "IPY_MODEL_569738a5ddc74eb1913e4fd32cdea7f0",
            "value": "100%"
          }
        },
        "d1400eee789b4864939bd8c994382385": {
          "model_module": "@jupyter-widgets/controls",
          "model_name": "FloatProgressModel",
          "model_module_version": "1.5.0",
          "state": {
            "_dom_classes": [],
            "_model_module": "@jupyter-widgets/controls",
            "_model_module_version": "1.5.0",
            "_model_name": "FloatProgressModel",
            "_view_count": null,
            "_view_module": "@jupyter-widgets/controls",
            "_view_module_version": "1.5.0",
            "_view_name": "ProgressView",
            "bar_style": "success",
            "description": "",
            "description_tooltip": null,
            "layout": "IPY_MODEL_9155866c73f04a6e8b143def9111d9bc",
            "max": 28881,
            "min": 0,
            "orientation": "horizontal",
            "style": "IPY_MODEL_709d453258d34d2ca0012bfc477d0481",
            "value": 28881
          }
        },
        "adf568ac18ea4e0c808ede54881153f0": {
          "model_module": "@jupyter-widgets/controls",
          "model_name": "HTMLModel",
          "model_module_version": "1.5.0",
          "state": {
            "_dom_classes": [],
            "_model_module": "@jupyter-widgets/controls",
            "_model_module_version": "1.5.0",
            "_model_name": "HTMLModel",
            "_view_count": null,
            "_view_module": "@jupyter-widgets/controls",
            "_view_module_version": "1.5.0",
            "_view_name": "HTMLView",
            "description": "",
            "description_tooltip": null,
            "layout": "IPY_MODEL_d2f2664fd57c492d8815c18ce76f2b0d",
            "placeholder": "​",
            "style": "IPY_MODEL_6c587a26f6824c5bbf51f1f1d74c7f07",
            "value": " 28881/28881 [00:00&lt;00:00, 2157358.75it/s]"
          }
        },
        "4fb9c09149384d55a863578048ab42f0": {
          "model_module": "@jupyter-widgets/base",
          "model_name": "LayoutModel",
          "model_module_version": "1.2.0",
          "state": {
            "_model_module": "@jupyter-widgets/base",
            "_model_module_version": "1.2.0",
            "_model_name": "LayoutModel",
            "_view_count": null,
            "_view_module": "@jupyter-widgets/base",
            "_view_module_version": "1.2.0",
            "_view_name": "LayoutView",
            "align_content": null,
            "align_items": null,
            "align_self": null,
            "border": null,
            "bottom": null,
            "display": null,
            "flex": null,
            "flex_flow": null,
            "grid_area": null,
            "grid_auto_columns": null,
            "grid_auto_flow": null,
            "grid_auto_rows": null,
            "grid_column": null,
            "grid_gap": null,
            "grid_row": null,
            "grid_template_areas": null,
            "grid_template_columns": null,
            "grid_template_rows": null,
            "height": null,
            "justify_content": null,
            "justify_items": null,
            "left": null,
            "margin": null,
            "max_height": null,
            "max_width": null,
            "min_height": null,
            "min_width": null,
            "object_fit": null,
            "object_position": null,
            "order": null,
            "overflow": null,
            "overflow_x": null,
            "overflow_y": null,
            "padding": null,
            "right": null,
            "top": null,
            "visibility": null,
            "width": null
          }
        },
        "5a4638edc6864c5abb9d15e44a987b84": {
          "model_module": "@jupyter-widgets/base",
          "model_name": "LayoutModel",
          "model_module_version": "1.2.0",
          "state": {
            "_model_module": "@jupyter-widgets/base",
            "_model_module_version": "1.2.0",
            "_model_name": "LayoutModel",
            "_view_count": null,
            "_view_module": "@jupyter-widgets/base",
            "_view_module_version": "1.2.0",
            "_view_name": "LayoutView",
            "align_content": null,
            "align_items": null,
            "align_self": null,
            "border": null,
            "bottom": null,
            "display": null,
            "flex": null,
            "flex_flow": null,
            "grid_area": null,
            "grid_auto_columns": null,
            "grid_auto_flow": null,
            "grid_auto_rows": null,
            "grid_column": null,
            "grid_gap": null,
            "grid_row": null,
            "grid_template_areas": null,
            "grid_template_columns": null,
            "grid_template_rows": null,
            "height": null,
            "justify_content": null,
            "justify_items": null,
            "left": null,
            "margin": null,
            "max_height": null,
            "max_width": null,
            "min_height": null,
            "min_width": null,
            "object_fit": null,
            "object_position": null,
            "order": null,
            "overflow": null,
            "overflow_x": null,
            "overflow_y": null,
            "padding": null,
            "right": null,
            "top": null,
            "visibility": null,
            "width": null
          }
        },
        "569738a5ddc74eb1913e4fd32cdea7f0": {
          "model_module": "@jupyter-widgets/controls",
          "model_name": "DescriptionStyleModel",
          "model_module_version": "1.5.0",
          "state": {
            "_model_module": "@jupyter-widgets/controls",
            "_model_module_version": "1.5.0",
            "_model_name": "DescriptionStyleModel",
            "_view_count": null,
            "_view_module": "@jupyter-widgets/base",
            "_view_module_version": "1.2.0",
            "_view_name": "StyleView",
            "description_width": ""
          }
        },
        "9155866c73f04a6e8b143def9111d9bc": {
          "model_module": "@jupyter-widgets/base",
          "model_name": "LayoutModel",
          "model_module_version": "1.2.0",
          "state": {
            "_model_module": "@jupyter-widgets/base",
            "_model_module_version": "1.2.0",
            "_model_name": "LayoutModel",
            "_view_count": null,
            "_view_module": "@jupyter-widgets/base",
            "_view_module_version": "1.2.0",
            "_view_name": "LayoutView",
            "align_content": null,
            "align_items": null,
            "align_self": null,
            "border": null,
            "bottom": null,
            "display": null,
            "flex": null,
            "flex_flow": null,
            "grid_area": null,
            "grid_auto_columns": null,
            "grid_auto_flow": null,
            "grid_auto_rows": null,
            "grid_column": null,
            "grid_gap": null,
            "grid_row": null,
            "grid_template_areas": null,
            "grid_template_columns": null,
            "grid_template_rows": null,
            "height": null,
            "justify_content": null,
            "justify_items": null,
            "left": null,
            "margin": null,
            "max_height": null,
            "max_width": null,
            "min_height": null,
            "min_width": null,
            "object_fit": null,
            "object_position": null,
            "order": null,
            "overflow": null,
            "overflow_x": null,
            "overflow_y": null,
            "padding": null,
            "right": null,
            "top": null,
            "visibility": null,
            "width": null
          }
        },
        "709d453258d34d2ca0012bfc477d0481": {
          "model_module": "@jupyter-widgets/controls",
          "model_name": "ProgressStyleModel",
          "model_module_version": "1.5.0",
          "state": {
            "_model_module": "@jupyter-widgets/controls",
            "_model_module_version": "1.5.0",
            "_model_name": "ProgressStyleModel",
            "_view_count": null,
            "_view_module": "@jupyter-widgets/base",
            "_view_module_version": "1.2.0",
            "_view_name": "StyleView",
            "bar_color": null,
            "description_width": ""
          }
        },
        "d2f2664fd57c492d8815c18ce76f2b0d": {
          "model_module": "@jupyter-widgets/base",
          "model_name": "LayoutModel",
          "model_module_version": "1.2.0",
          "state": {
            "_model_module": "@jupyter-widgets/base",
            "_model_module_version": "1.2.0",
            "_model_name": "LayoutModel",
            "_view_count": null,
            "_view_module": "@jupyter-widgets/base",
            "_view_module_version": "1.2.0",
            "_view_name": "LayoutView",
            "align_content": null,
            "align_items": null,
            "align_self": null,
            "border": null,
            "bottom": null,
            "display": null,
            "flex": null,
            "flex_flow": null,
            "grid_area": null,
            "grid_auto_columns": null,
            "grid_auto_flow": null,
            "grid_auto_rows": null,
            "grid_column": null,
            "grid_gap": null,
            "grid_row": null,
            "grid_template_areas": null,
            "grid_template_columns": null,
            "grid_template_rows": null,
            "height": null,
            "justify_content": null,
            "justify_items": null,
            "left": null,
            "margin": null,
            "max_height": null,
            "max_width": null,
            "min_height": null,
            "min_width": null,
            "object_fit": null,
            "object_position": null,
            "order": null,
            "overflow": null,
            "overflow_x": null,
            "overflow_y": null,
            "padding": null,
            "right": null,
            "top": null,
            "visibility": null,
            "width": null
          }
        },
        "6c587a26f6824c5bbf51f1f1d74c7f07": {
          "model_module": "@jupyter-widgets/controls",
          "model_name": "DescriptionStyleModel",
          "model_module_version": "1.5.0",
          "state": {
            "_model_module": "@jupyter-widgets/controls",
            "_model_module_version": "1.5.0",
            "_model_name": "DescriptionStyleModel",
            "_view_count": null,
            "_view_module": "@jupyter-widgets/base",
            "_view_module_version": "1.2.0",
            "_view_name": "StyleView",
            "description_width": ""
          }
        },
        "8a6f3680dc424cecad63d5e60fe8fc01": {
          "model_module": "@jupyter-widgets/controls",
          "model_name": "HBoxModel",
          "model_module_version": "1.5.0",
          "state": {
            "_dom_classes": [],
            "_model_module": "@jupyter-widgets/controls",
            "_model_module_version": "1.5.0",
            "_model_name": "HBoxModel",
            "_view_count": null,
            "_view_module": "@jupyter-widgets/controls",
            "_view_module_version": "1.5.0",
            "_view_name": "HBoxView",
            "box_style": "",
            "children": [
              "IPY_MODEL_545fa20f1d8b4ff1b72d59618ab06bb6",
              "IPY_MODEL_41d9db05b8b545a781d713554732e68d",
              "IPY_MODEL_6169110134044d1e8452c417f32a9ee0"
            ],
            "layout": "IPY_MODEL_20cd2bb98f2e4588befa6226c84f326b"
          }
        },
        "545fa20f1d8b4ff1b72d59618ab06bb6": {
          "model_module": "@jupyter-widgets/controls",
          "model_name": "HTMLModel",
          "model_module_version": "1.5.0",
          "state": {
            "_dom_classes": [],
            "_model_module": "@jupyter-widgets/controls",
            "_model_module_version": "1.5.0",
            "_model_name": "HTMLModel",
            "_view_count": null,
            "_view_module": "@jupyter-widgets/controls",
            "_view_module_version": "1.5.0",
            "_view_name": "HTMLView",
            "description": "",
            "description_tooltip": null,
            "layout": "IPY_MODEL_c99509a0eb504ea4b97a8a055951252c",
            "placeholder": "​",
            "style": "IPY_MODEL_9361db5e4edf4583820921495d6fa2fa",
            "value": "100%"
          }
        },
        "41d9db05b8b545a781d713554732e68d": {
          "model_module": "@jupyter-widgets/controls",
          "model_name": "FloatProgressModel",
          "model_module_version": "1.5.0",
          "state": {
            "_dom_classes": [],
            "_model_module": "@jupyter-widgets/controls",
            "_model_module_version": "1.5.0",
            "_model_name": "FloatProgressModel",
            "_view_count": null,
            "_view_module": "@jupyter-widgets/controls",
            "_view_module_version": "1.5.0",
            "_view_name": "ProgressView",
            "bar_style": "success",
            "description": "",
            "description_tooltip": null,
            "layout": "IPY_MODEL_fada2d286e3740bd9f5396d2d8c4a480",
            "max": 1648877,
            "min": 0,
            "orientation": "horizontal",
            "style": "IPY_MODEL_481cf93d91ac4f44a3355b7d515ba9db",
            "value": 1648877
          }
        },
        "6169110134044d1e8452c417f32a9ee0": {
          "model_module": "@jupyter-widgets/controls",
          "model_name": "HTMLModel",
          "model_module_version": "1.5.0",
          "state": {
            "_dom_classes": [],
            "_model_module": "@jupyter-widgets/controls",
            "_model_module_version": "1.5.0",
            "_model_name": "HTMLModel",
            "_view_count": null,
            "_view_module": "@jupyter-widgets/controls",
            "_view_module_version": "1.5.0",
            "_view_name": "HTMLView",
            "description": "",
            "description_tooltip": null,
            "layout": "IPY_MODEL_29d5eacfded74f678e485a807c627a21",
            "placeholder": "​",
            "style": "IPY_MODEL_58bec85f79a04d569149edd19d2ad3e7",
            "value": " 1648877/1648877 [00:00&lt;00:00, 26853242.15it/s]"
          }
        },
        "20cd2bb98f2e4588befa6226c84f326b": {
          "model_module": "@jupyter-widgets/base",
          "model_name": "LayoutModel",
          "model_module_version": "1.2.0",
          "state": {
            "_model_module": "@jupyter-widgets/base",
            "_model_module_version": "1.2.0",
            "_model_name": "LayoutModel",
            "_view_count": null,
            "_view_module": "@jupyter-widgets/base",
            "_view_module_version": "1.2.0",
            "_view_name": "LayoutView",
            "align_content": null,
            "align_items": null,
            "align_self": null,
            "border": null,
            "bottom": null,
            "display": null,
            "flex": null,
            "flex_flow": null,
            "grid_area": null,
            "grid_auto_columns": null,
            "grid_auto_flow": null,
            "grid_auto_rows": null,
            "grid_column": null,
            "grid_gap": null,
            "grid_row": null,
            "grid_template_areas": null,
            "grid_template_columns": null,
            "grid_template_rows": null,
            "height": null,
            "justify_content": null,
            "justify_items": null,
            "left": null,
            "margin": null,
            "max_height": null,
            "max_width": null,
            "min_height": null,
            "min_width": null,
            "object_fit": null,
            "object_position": null,
            "order": null,
            "overflow": null,
            "overflow_x": null,
            "overflow_y": null,
            "padding": null,
            "right": null,
            "top": null,
            "visibility": null,
            "width": null
          }
        },
        "c99509a0eb504ea4b97a8a055951252c": {
          "model_module": "@jupyter-widgets/base",
          "model_name": "LayoutModel",
          "model_module_version": "1.2.0",
          "state": {
            "_model_module": "@jupyter-widgets/base",
            "_model_module_version": "1.2.0",
            "_model_name": "LayoutModel",
            "_view_count": null,
            "_view_module": "@jupyter-widgets/base",
            "_view_module_version": "1.2.0",
            "_view_name": "LayoutView",
            "align_content": null,
            "align_items": null,
            "align_self": null,
            "border": null,
            "bottom": null,
            "display": null,
            "flex": null,
            "flex_flow": null,
            "grid_area": null,
            "grid_auto_columns": null,
            "grid_auto_flow": null,
            "grid_auto_rows": null,
            "grid_column": null,
            "grid_gap": null,
            "grid_row": null,
            "grid_template_areas": null,
            "grid_template_columns": null,
            "grid_template_rows": null,
            "height": null,
            "justify_content": null,
            "justify_items": null,
            "left": null,
            "margin": null,
            "max_height": null,
            "max_width": null,
            "min_height": null,
            "min_width": null,
            "object_fit": null,
            "object_position": null,
            "order": null,
            "overflow": null,
            "overflow_x": null,
            "overflow_y": null,
            "padding": null,
            "right": null,
            "top": null,
            "visibility": null,
            "width": null
          }
        },
        "9361db5e4edf4583820921495d6fa2fa": {
          "model_module": "@jupyter-widgets/controls",
          "model_name": "DescriptionStyleModel",
          "model_module_version": "1.5.0",
          "state": {
            "_model_module": "@jupyter-widgets/controls",
            "_model_module_version": "1.5.0",
            "_model_name": "DescriptionStyleModel",
            "_view_count": null,
            "_view_module": "@jupyter-widgets/base",
            "_view_module_version": "1.2.0",
            "_view_name": "StyleView",
            "description_width": ""
          }
        },
        "fada2d286e3740bd9f5396d2d8c4a480": {
          "model_module": "@jupyter-widgets/base",
          "model_name": "LayoutModel",
          "model_module_version": "1.2.0",
          "state": {
            "_model_module": "@jupyter-widgets/base",
            "_model_module_version": "1.2.0",
            "_model_name": "LayoutModel",
            "_view_count": null,
            "_view_module": "@jupyter-widgets/base",
            "_view_module_version": "1.2.0",
            "_view_name": "LayoutView",
            "align_content": null,
            "align_items": null,
            "align_self": null,
            "border": null,
            "bottom": null,
            "display": null,
            "flex": null,
            "flex_flow": null,
            "grid_area": null,
            "grid_auto_columns": null,
            "grid_auto_flow": null,
            "grid_auto_rows": null,
            "grid_column": null,
            "grid_gap": null,
            "grid_row": null,
            "grid_template_areas": null,
            "grid_template_columns": null,
            "grid_template_rows": null,
            "height": null,
            "justify_content": null,
            "justify_items": null,
            "left": null,
            "margin": null,
            "max_height": null,
            "max_width": null,
            "min_height": null,
            "min_width": null,
            "object_fit": null,
            "object_position": null,
            "order": null,
            "overflow": null,
            "overflow_x": null,
            "overflow_y": null,
            "padding": null,
            "right": null,
            "top": null,
            "visibility": null,
            "width": null
          }
        },
        "481cf93d91ac4f44a3355b7d515ba9db": {
          "model_module": "@jupyter-widgets/controls",
          "model_name": "ProgressStyleModel",
          "model_module_version": "1.5.0",
          "state": {
            "_model_module": "@jupyter-widgets/controls",
            "_model_module_version": "1.5.0",
            "_model_name": "ProgressStyleModel",
            "_view_count": null,
            "_view_module": "@jupyter-widgets/base",
            "_view_module_version": "1.2.0",
            "_view_name": "StyleView",
            "bar_color": null,
            "description_width": ""
          }
        },
        "29d5eacfded74f678e485a807c627a21": {
          "model_module": "@jupyter-widgets/base",
          "model_name": "LayoutModel",
          "model_module_version": "1.2.0",
          "state": {
            "_model_module": "@jupyter-widgets/base",
            "_model_module_version": "1.2.0",
            "_model_name": "LayoutModel",
            "_view_count": null,
            "_view_module": "@jupyter-widgets/base",
            "_view_module_version": "1.2.0",
            "_view_name": "LayoutView",
            "align_content": null,
            "align_items": null,
            "align_self": null,
            "border": null,
            "bottom": null,
            "display": null,
            "flex": null,
            "flex_flow": null,
            "grid_area": null,
            "grid_auto_columns": null,
            "grid_auto_flow": null,
            "grid_auto_rows": null,
            "grid_column": null,
            "grid_gap": null,
            "grid_row": null,
            "grid_template_areas": null,
            "grid_template_columns": null,
            "grid_template_rows": null,
            "height": null,
            "justify_content": null,
            "justify_items": null,
            "left": null,
            "margin": null,
            "max_height": null,
            "max_width": null,
            "min_height": null,
            "min_width": null,
            "object_fit": null,
            "object_position": null,
            "order": null,
            "overflow": null,
            "overflow_x": null,
            "overflow_y": null,
            "padding": null,
            "right": null,
            "top": null,
            "visibility": null,
            "width": null
          }
        },
        "58bec85f79a04d569149edd19d2ad3e7": {
          "model_module": "@jupyter-widgets/controls",
          "model_name": "DescriptionStyleModel",
          "model_module_version": "1.5.0",
          "state": {
            "_model_module": "@jupyter-widgets/controls",
            "_model_module_version": "1.5.0",
            "_model_name": "DescriptionStyleModel",
            "_view_count": null,
            "_view_module": "@jupyter-widgets/base",
            "_view_module_version": "1.2.0",
            "_view_name": "StyleView",
            "description_width": ""
          }
        },
        "48632b800bc14103a230ba216f24500a": {
          "model_module": "@jupyter-widgets/controls",
          "model_name": "HBoxModel",
          "model_module_version": "1.5.0",
          "state": {
            "_dom_classes": [],
            "_model_module": "@jupyter-widgets/controls",
            "_model_module_version": "1.5.0",
            "_model_name": "HBoxModel",
            "_view_count": null,
            "_view_module": "@jupyter-widgets/controls",
            "_view_module_version": "1.5.0",
            "_view_name": "HBoxView",
            "box_style": "",
            "children": [
              "IPY_MODEL_45ddba8c3b9b450898dad6ef8a0e3205",
              "IPY_MODEL_5966db98169c4f4098799dbcbbf365c8",
              "IPY_MODEL_be584d5dcd4d42e99f876742c17242ad"
            ],
            "layout": "IPY_MODEL_bcf53072a1ea4035bcaf16eefa5856c2"
          }
        },
        "45ddba8c3b9b450898dad6ef8a0e3205": {
          "model_module": "@jupyter-widgets/controls",
          "model_name": "HTMLModel",
          "model_module_version": "1.5.0",
          "state": {
            "_dom_classes": [],
            "_model_module": "@jupyter-widgets/controls",
            "_model_module_version": "1.5.0",
            "_model_name": "HTMLModel",
            "_view_count": null,
            "_view_module": "@jupyter-widgets/controls",
            "_view_module_version": "1.5.0",
            "_view_name": "HTMLView",
            "description": "",
            "description_tooltip": null,
            "layout": "IPY_MODEL_20137f412645473fac8a873678031315",
            "placeholder": "​",
            "style": "IPY_MODEL_1d6879a1c6d644dbb9a191307221ef2e",
            "value": "100%"
          }
        },
        "5966db98169c4f4098799dbcbbf365c8": {
          "model_module": "@jupyter-widgets/controls",
          "model_name": "FloatProgressModel",
          "model_module_version": "1.5.0",
          "state": {
            "_dom_classes": [],
            "_model_module": "@jupyter-widgets/controls",
            "_model_module_version": "1.5.0",
            "_model_name": "FloatProgressModel",
            "_view_count": null,
            "_view_module": "@jupyter-widgets/controls",
            "_view_module_version": "1.5.0",
            "_view_name": "ProgressView",
            "bar_style": "success",
            "description": "",
            "description_tooltip": null,
            "layout": "IPY_MODEL_0c460d94928849d5ae60e82e7337c019",
            "max": 4542,
            "min": 0,
            "orientation": "horizontal",
            "style": "IPY_MODEL_abedc341f2e74acbb05240ce35861d0b",
            "value": 4542
          }
        },
        "be584d5dcd4d42e99f876742c17242ad": {
          "model_module": "@jupyter-widgets/controls",
          "model_name": "HTMLModel",
          "model_module_version": "1.5.0",
          "state": {
            "_dom_classes": [],
            "_model_module": "@jupyter-widgets/controls",
            "_model_module_version": "1.5.0",
            "_model_name": "HTMLModel",
            "_view_count": null,
            "_view_module": "@jupyter-widgets/controls",
            "_view_module_version": "1.5.0",
            "_view_name": "HTMLView",
            "description": "",
            "description_tooltip": null,
            "layout": "IPY_MODEL_e6f72707dd9a49a8b20228e9dc2d518c",
            "placeholder": "​",
            "style": "IPY_MODEL_35dde1d6bc784ce085c25143e5d937de",
            "value": " 4542/4542 [00:00&lt;00:00, 384307.94it/s]"
          }
        },
        "bcf53072a1ea4035bcaf16eefa5856c2": {
          "model_module": "@jupyter-widgets/base",
          "model_name": "LayoutModel",
          "model_module_version": "1.2.0",
          "state": {
            "_model_module": "@jupyter-widgets/base",
            "_model_module_version": "1.2.0",
            "_model_name": "LayoutModel",
            "_view_count": null,
            "_view_module": "@jupyter-widgets/base",
            "_view_module_version": "1.2.0",
            "_view_name": "LayoutView",
            "align_content": null,
            "align_items": null,
            "align_self": null,
            "border": null,
            "bottom": null,
            "display": null,
            "flex": null,
            "flex_flow": null,
            "grid_area": null,
            "grid_auto_columns": null,
            "grid_auto_flow": null,
            "grid_auto_rows": null,
            "grid_column": null,
            "grid_gap": null,
            "grid_row": null,
            "grid_template_areas": null,
            "grid_template_columns": null,
            "grid_template_rows": null,
            "height": null,
            "justify_content": null,
            "justify_items": null,
            "left": null,
            "margin": null,
            "max_height": null,
            "max_width": null,
            "min_height": null,
            "min_width": null,
            "object_fit": null,
            "object_position": null,
            "order": null,
            "overflow": null,
            "overflow_x": null,
            "overflow_y": null,
            "padding": null,
            "right": null,
            "top": null,
            "visibility": null,
            "width": null
          }
        },
        "20137f412645473fac8a873678031315": {
          "model_module": "@jupyter-widgets/base",
          "model_name": "LayoutModel",
          "model_module_version": "1.2.0",
          "state": {
            "_model_module": "@jupyter-widgets/base",
            "_model_module_version": "1.2.0",
            "_model_name": "LayoutModel",
            "_view_count": null,
            "_view_module": "@jupyter-widgets/base",
            "_view_module_version": "1.2.0",
            "_view_name": "LayoutView",
            "align_content": null,
            "align_items": null,
            "align_self": null,
            "border": null,
            "bottom": null,
            "display": null,
            "flex": null,
            "flex_flow": null,
            "grid_area": null,
            "grid_auto_columns": null,
            "grid_auto_flow": null,
            "grid_auto_rows": null,
            "grid_column": null,
            "grid_gap": null,
            "grid_row": null,
            "grid_template_areas": null,
            "grid_template_columns": null,
            "grid_template_rows": null,
            "height": null,
            "justify_content": null,
            "justify_items": null,
            "left": null,
            "margin": null,
            "max_height": null,
            "max_width": null,
            "min_height": null,
            "min_width": null,
            "object_fit": null,
            "object_position": null,
            "order": null,
            "overflow": null,
            "overflow_x": null,
            "overflow_y": null,
            "padding": null,
            "right": null,
            "top": null,
            "visibility": null,
            "width": null
          }
        },
        "1d6879a1c6d644dbb9a191307221ef2e": {
          "model_module": "@jupyter-widgets/controls",
          "model_name": "DescriptionStyleModel",
          "model_module_version": "1.5.0",
          "state": {
            "_model_module": "@jupyter-widgets/controls",
            "_model_module_version": "1.5.0",
            "_model_name": "DescriptionStyleModel",
            "_view_count": null,
            "_view_module": "@jupyter-widgets/base",
            "_view_module_version": "1.2.0",
            "_view_name": "StyleView",
            "description_width": ""
          }
        },
        "0c460d94928849d5ae60e82e7337c019": {
          "model_module": "@jupyter-widgets/base",
          "model_name": "LayoutModel",
          "model_module_version": "1.2.0",
          "state": {
            "_model_module": "@jupyter-widgets/base",
            "_model_module_version": "1.2.0",
            "_model_name": "LayoutModel",
            "_view_count": null,
            "_view_module": "@jupyter-widgets/base",
            "_view_module_version": "1.2.0",
            "_view_name": "LayoutView",
            "align_content": null,
            "align_items": null,
            "align_self": null,
            "border": null,
            "bottom": null,
            "display": null,
            "flex": null,
            "flex_flow": null,
            "grid_area": null,
            "grid_auto_columns": null,
            "grid_auto_flow": null,
            "grid_auto_rows": null,
            "grid_column": null,
            "grid_gap": null,
            "grid_row": null,
            "grid_template_areas": null,
            "grid_template_columns": null,
            "grid_template_rows": null,
            "height": null,
            "justify_content": null,
            "justify_items": null,
            "left": null,
            "margin": null,
            "max_height": null,
            "max_width": null,
            "min_height": null,
            "min_width": null,
            "object_fit": null,
            "object_position": null,
            "order": null,
            "overflow": null,
            "overflow_x": null,
            "overflow_y": null,
            "padding": null,
            "right": null,
            "top": null,
            "visibility": null,
            "width": null
          }
        },
        "abedc341f2e74acbb05240ce35861d0b": {
          "model_module": "@jupyter-widgets/controls",
          "model_name": "ProgressStyleModel",
          "model_module_version": "1.5.0",
          "state": {
            "_model_module": "@jupyter-widgets/controls",
            "_model_module_version": "1.5.0",
            "_model_name": "ProgressStyleModel",
            "_view_count": null,
            "_view_module": "@jupyter-widgets/base",
            "_view_module_version": "1.2.0",
            "_view_name": "StyleView",
            "bar_color": null,
            "description_width": ""
          }
        },
        "e6f72707dd9a49a8b20228e9dc2d518c": {
          "model_module": "@jupyter-widgets/base",
          "model_name": "LayoutModel",
          "model_module_version": "1.2.0",
          "state": {
            "_model_module": "@jupyter-widgets/base",
            "_model_module_version": "1.2.0",
            "_model_name": "LayoutModel",
            "_view_count": null,
            "_view_module": "@jupyter-widgets/base",
            "_view_module_version": "1.2.0",
            "_view_name": "LayoutView",
            "align_content": null,
            "align_items": null,
            "align_self": null,
            "border": null,
            "bottom": null,
            "display": null,
            "flex": null,
            "flex_flow": null,
            "grid_area": null,
            "grid_auto_columns": null,
            "grid_auto_flow": null,
            "grid_auto_rows": null,
            "grid_column": null,
            "grid_gap": null,
            "grid_row": null,
            "grid_template_areas": null,
            "grid_template_columns": null,
            "grid_template_rows": null,
            "height": null,
            "justify_content": null,
            "justify_items": null,
            "left": null,
            "margin": null,
            "max_height": null,
            "max_width": null,
            "min_height": null,
            "min_width": null,
            "object_fit": null,
            "object_position": null,
            "order": null,
            "overflow": null,
            "overflow_x": null,
            "overflow_y": null,
            "padding": null,
            "right": null,
            "top": null,
            "visibility": null,
            "width": null
          }
        },
        "35dde1d6bc784ce085c25143e5d937de": {
          "model_module": "@jupyter-widgets/controls",
          "model_name": "DescriptionStyleModel",
          "model_module_version": "1.5.0",
          "state": {
            "_model_module": "@jupyter-widgets/controls",
            "_model_module_version": "1.5.0",
            "_model_name": "DescriptionStyleModel",
            "_view_count": null,
            "_view_module": "@jupyter-widgets/base",
            "_view_module_version": "1.2.0",
            "_view_name": "StyleView",
            "description_width": ""
          }
        }
      }
    }
  },
  "cells": [
    {
      "cell_type": "markdown",
      "metadata": {
        "id": "view-in-github",
        "colab_type": "text"
      },
      "source": [
        "<a href=\"https://colab.research.google.com/github/yoonhero/Brainstormers/blob/master/paperwithcode/Conditional_GAN.ipynb\" target=\"_parent\"><img src=\"https://colab.research.google.com/assets/colab-badge.svg\" alt=\"Open In Colab\"/></a>"
      ]
    },
    {
      "cell_type": "code",
      "execution_count": 1,
      "metadata": {
        "id": "pHA5Cjdcukkb"
      },
      "outputs": [],
      "source": [
        "import torch\n",
        "import torchvision.datasets as datasets\n",
        "import torch.nn as nn\n",
        "import torch.nn.functional as F\n",
        "from torch.utils.data import Dataset, DataLoader\n",
        "import torchvision.transforms as transforms\n",
        "from torchvision import utils\n",
        "import numpy as np\n",
        "import os\n",
        "import matplotlib.pyplot as plt\n",
        "import time"
      ]
    },
    {
      "cell_type": "code",
      "source": [
        "device = torch.device(\"cuda\" if torch.cuda.is_available() else \"cpu\")"
      ],
      "metadata": {
        "id": "rC7Oe-cavBwu"
      },
      "execution_count": 2,
      "outputs": []
    },
    {
      "cell_type": "code",
      "source": [
        "# Set Data path\n",
        "datapath = './data'\n",
        "os.makedirs(datapath, exist_ok=True)\n",
        "\n",
        "# Pre-process\n",
        "trans = transforms.Compose([\n",
        "    transforms.ToTensor(),\n",
        "    transforms.Normalize([0.5], [0.5])\n",
        "])\n",
        "\n",
        "# Laod MNIST\n",
        "train_dataset = datasets.MNIST(datapath, train=True, download=True, transform=trans)"
      ],
      "metadata": {
        "colab": {
          "base_uri": "https://localhost:8080/",
          "height": 431,
          "referenced_widgets": [
            "343680b13127476693ff59c25bbc21a6",
            "85d3689ec7b644188525081e739e501f",
            "64b2405aaafa402dacb2d8ab09986a10",
            "3133d3fedf544c4ab1605181a01f2b3e",
            "85bf1d03f331494b89175fa9923ff0fe",
            "391a4cd9992d40f289b35302b0f3f0bf",
            "fc6da09c09654456b44e3208f841ae46",
            "cc070e45eca74fe0bea28d7a6b21e37a",
            "7112effc4383431eaf43049724635348",
            "a11feb5d415042dda32dd0a5177d9227",
            "397dfda3ad734b21854a0d86f2ee8272",
            "32eeba53cd3a4ce482f2262e421221d9",
            "c1b2c1aa28ee4e61956f0f27f8211473",
            "d1400eee789b4864939bd8c994382385",
            "adf568ac18ea4e0c808ede54881153f0",
            "4fb9c09149384d55a863578048ab42f0",
            "5a4638edc6864c5abb9d15e44a987b84",
            "569738a5ddc74eb1913e4fd32cdea7f0",
            "9155866c73f04a6e8b143def9111d9bc",
            "709d453258d34d2ca0012bfc477d0481",
            "d2f2664fd57c492d8815c18ce76f2b0d",
            "6c587a26f6824c5bbf51f1f1d74c7f07",
            "8a6f3680dc424cecad63d5e60fe8fc01",
            "545fa20f1d8b4ff1b72d59618ab06bb6",
            "41d9db05b8b545a781d713554732e68d",
            "6169110134044d1e8452c417f32a9ee0",
            "20cd2bb98f2e4588befa6226c84f326b",
            "c99509a0eb504ea4b97a8a055951252c",
            "9361db5e4edf4583820921495d6fa2fa",
            "fada2d286e3740bd9f5396d2d8c4a480",
            "481cf93d91ac4f44a3355b7d515ba9db",
            "29d5eacfded74f678e485a807c627a21",
            "58bec85f79a04d569149edd19d2ad3e7",
            "48632b800bc14103a230ba216f24500a",
            "45ddba8c3b9b450898dad6ef8a0e3205",
            "5966db98169c4f4098799dbcbbf365c8",
            "be584d5dcd4d42e99f876742c17242ad",
            "bcf53072a1ea4035bcaf16eefa5856c2",
            "20137f412645473fac8a873678031315",
            "1d6879a1c6d644dbb9a191307221ef2e",
            "0c460d94928849d5ae60e82e7337c019",
            "abedc341f2e74acbb05240ce35861d0b",
            "e6f72707dd9a49a8b20228e9dc2d518c",
            "35dde1d6bc784ce085c25143e5d937de"
          ]
        },
        "id": "PwTJmFMlvJ9E",
        "outputId": "d9582340-9e9f-44d7-e891-3061dc00cd08"
      },
      "execution_count": 3,
      "outputs": [
        {
          "output_type": "stream",
          "name": "stdout",
          "text": [
            "Downloading http://yann.lecun.com/exdb/mnist/train-images-idx3-ubyte.gz\n",
            "Downloading http://yann.lecun.com/exdb/mnist/train-images-idx3-ubyte.gz to ./data/MNIST/raw/train-images-idx3-ubyte.gz\n"
          ]
        },
        {
          "output_type": "display_data",
          "data": {
            "text/plain": [
              "  0%|          | 0/9912422 [00:00<?, ?it/s]"
            ],
            "application/vnd.jupyter.widget-view+json": {
              "version_major": 2,
              "version_minor": 0,
              "model_id": "343680b13127476693ff59c25bbc21a6"
            }
          },
          "metadata": {}
        },
        {
          "output_type": "stream",
          "name": "stdout",
          "text": [
            "Extracting ./data/MNIST/raw/train-images-idx3-ubyte.gz to ./data/MNIST/raw\n",
            "\n",
            "Downloading http://yann.lecun.com/exdb/mnist/train-labels-idx1-ubyte.gz\n",
            "Downloading http://yann.lecun.com/exdb/mnist/train-labels-idx1-ubyte.gz to ./data/MNIST/raw/train-labels-idx1-ubyte.gz\n"
          ]
        },
        {
          "output_type": "display_data",
          "data": {
            "text/plain": [
              "  0%|          | 0/28881 [00:00<?, ?it/s]"
            ],
            "application/vnd.jupyter.widget-view+json": {
              "version_major": 2,
              "version_minor": 0,
              "model_id": "32eeba53cd3a4ce482f2262e421221d9"
            }
          },
          "metadata": {}
        },
        {
          "output_type": "stream",
          "name": "stdout",
          "text": [
            "Extracting ./data/MNIST/raw/train-labels-idx1-ubyte.gz to ./data/MNIST/raw\n",
            "\n",
            "Downloading http://yann.lecun.com/exdb/mnist/t10k-images-idx3-ubyte.gz\n",
            "Downloading http://yann.lecun.com/exdb/mnist/t10k-images-idx3-ubyte.gz to ./data/MNIST/raw/t10k-images-idx3-ubyte.gz\n"
          ]
        },
        {
          "output_type": "display_data",
          "data": {
            "text/plain": [
              "  0%|          | 0/1648877 [00:00<?, ?it/s]"
            ],
            "application/vnd.jupyter.widget-view+json": {
              "version_major": 2,
              "version_minor": 0,
              "model_id": "8a6f3680dc424cecad63d5e60fe8fc01"
            }
          },
          "metadata": {}
        },
        {
          "output_type": "stream",
          "name": "stdout",
          "text": [
            "Extracting ./data/MNIST/raw/t10k-images-idx3-ubyte.gz to ./data/MNIST/raw\n",
            "\n",
            "Downloading http://yann.lecun.com/exdb/mnist/t10k-labels-idx1-ubyte.gz\n",
            "Downloading http://yann.lecun.com/exdb/mnist/t10k-labels-idx1-ubyte.gz to ./data/MNIST/raw/t10k-labels-idx1-ubyte.gz\n"
          ]
        },
        {
          "output_type": "display_data",
          "data": {
            "text/plain": [
              "  0%|          | 0/4542 [00:00<?, ?it/s]"
            ],
            "application/vnd.jupyter.widget-view+json": {
              "version_major": 2,
              "version_minor": 0,
              "model_id": "48632b800bc14103a230ba216f24500a"
            }
          },
          "metadata": {}
        },
        {
          "output_type": "stream",
          "name": "stdout",
          "text": [
            "Extracting ./data/MNIST/raw/t10k-labels-idx1-ubyte.gz to ./data/MNIST/raw\n",
            "\n"
          ]
        }
      ]
    },
    {
      "cell_type": "code",
      "source": [
        "img, label = train_dataset.data, train_dataset.targets\n",
        "\n",
        "img.shape, label.shape"
      ],
      "metadata": {
        "colab": {
          "base_uri": "https://localhost:8080/"
        },
        "id": "nXSv0-MkvNIT",
        "outputId": "d14cd01f-18c0-44f8-ec64-d90bbe834fee"
      },
      "execution_count": 4,
      "outputs": [
        {
          "output_type": "execute_result",
          "data": {
            "text/plain": [
              "(torch.Size([60000, 28, 28]), torch.Size([60000]))"
            ]
          },
          "metadata": {},
          "execution_count": 4
        }
      ]
    },
    {
      "cell_type": "code",
      "source": [
        "img = img.unsqueeze(1)\n",
        "\n",
        "img_grid = utils.make_grid(img[:40], ncol=8, padding=2)\n",
        "def show(img):\n",
        "    img = img.numpy() # Tensor -> numpy array\n",
        "    img = img.transpose([1,2,0]) # C x H x W -> H x W x C\n",
        "    plt.imshow(img, interpolation='nearest')\n",
        "show(img_grid)"
      ],
      "metadata": {
        "colab": {
          "base_uri": "https://localhost:8080/",
          "height": 261
        },
        "id": "03ovPQB4vS-1",
        "outputId": "2c8884b8-a8a1-44e7-84c0-62a5f5682670"
      },
      "execution_count": 5,
      "outputs": [
        {
          "output_type": "display_data",
          "data": {
            "text/plain": [
              "<Figure size 432x288 with 1 Axes>"
            ],
            "image/png": "[encoded data removed]"
          },
          "metadata": {
            "needs_background": "light"
          }
        }
      ]
    },
    {
      "cell_type": "code",
      "source": [
        "batch_size = 64\n",
        "train_data_loader = DataLoader(train_dataset, batch_size=batch_size, shuffle=True)"
      ],
      "metadata": {
        "id": "Ju-VsufDvibR"
      },
      "execution_count": 6,
      "outputs": []
    },
    {
      "cell_type": "code",
      "source": [
        "# set parameters\n",
        "params = {\n",
        "    'num_classes':10,\n",
        "    'noise_z':100,\n",
        "    'input_size':(1,28,28)\n",
        "}"
      ],
      "metadata": {
        "id": "D9wHHLTrv2Re"
      },
      "execution_count": 7,
      "outputs": []
    },
    {
      "cell_type": "code",
      "source": [
        "#### GENERATOR ####\n",
        "class Generator(nn.Module):\n",
        "    def __init__(self, params):\n",
        "        super().__init__()\n",
        "\n",
        "        self.num_classes = params.get(\"num_classes\")\n",
        "        self.noise_z = params.get(\"noise_z\")\n",
        "        self.input_size = params.get(\"input_size\")\n",
        "\n",
        "        self.label_emb = nn.Embedding(self.num_classes, self.num_classes)\n",
        "\n",
        "        self.gen = nn.Sequential(\n",
        "            nn.Linear(self.num_classes+self.noise_z, 128),\n",
        "            nn.LeakyReLU(0.2),\n",
        "            nn.Linear(128, 256),\n",
        "            nn.BatchNorm1d(256),\n",
        "            nn.LeakyReLU(0.2),\n",
        "            nn.Linear(256, 512),\n",
        "            nn.BatchNorm1d(512),\n",
        "            nn.LeakyReLU(0.2),\n",
        "            nn.Linear(512, 1024),\n",
        "            nn.BatchNorm1d(1024),\n",
        "            nn.LeakyReLU(0.2),\n",
        "            nn.Linear(1024, int(np.prod(self.input_size))),\n",
        "            nn.Tanh()\n",
        "        )\n",
        "\n",
        "\n",
        "    def forward(self, z, labels):\n",
        "        # noise 와 label을 합치기\n",
        "        gen_input = torch.cat((self.label_emb(labels), z), axis=-1)\n",
        "\n",
        "        x = self.gen(gen_input)\n",
        "        x = x.view(-1,*self.input_size )\n",
        "        return x\n",
        "\n",
        "x = torch.randn(16, 100, device=device)\n",
        "label = torch.randint(0, 10, (16, ), device=device)\n",
        "model_gen = Generator(params).to(device)\n",
        "out_gen = model_gen(x, label)\n",
        "print(out_gen.shape)"
      ],
      "metadata": {
        "colab": {
          "base_uri": "https://localhost:8080/"
        },
        "id": "BdyaHu6nv_7N",
        "outputId": "50a95d6d-4beb-473a-d0cc-592a4b708e6e"
      },
      "execution_count": 8,
      "outputs": [
        {
          "output_type": "stream",
          "name": "stdout",
          "text": [
            "torch.Size([16, 1, 28, 28])\n"
          ]
        }
      ]
    },
    {
      "cell_type": "code",
      "source": [
        "class Discriminator(nn.Module):\n",
        "    def __init__(self, params):\n",
        "        super().__init__()\n",
        "\n",
        "        self.input_size = params.get(\"input_size\")\n",
        "        self.num_classes = params.get(\"num_classes\")\n",
        "        self.label_embedding = nn.Embedding(self.num_classes, self.num_classes)\n",
        "\n",
        "        self.dis = nn.Sequential(\n",
        "            nn.Linear(self.num_classes+int(np.prod(self.input_size)), 512),\n",
        "            nn.LeakyReLU(0.2),\n",
        "            nn.Linear(512, 512),\n",
        "            nn.Dropout(0.4),\n",
        "            nn.LeakyReLU(0.2),\n",
        "\n",
        "            nn.Linear(512, 512),\n",
        "\n",
        "            nn.Dropout(0.4),\n",
        "            nn.LeakyReLU(0.2),\n",
        "            nn.Linear(512, 1),\n",
        "            nn.Sigmoid()\n",
        "        )\n",
        "\n",
        "    def forward(self, img, labels):\n",
        "        dis_input = torch.cat((img.view(-1, 28*28), self.label_embedding(labels)), -1)\n",
        "\n",
        "        x = self.dis(dis_input)\n",
        "\n",
        "        return x\n",
        "\n",
        "x = torch.randn(16,1,28,28,device=device)\n",
        "label = torch.randint(0,10,(16,), device=device)\n",
        "model_dis = Discriminator(params).to(device)\n",
        "out_dis = model_dis(x,label)\n",
        "print(out_dis.shape)\n",
        "\n"
      ],
      "metadata": {
        "colab": {
          "base_uri": "https://localhost:8080/"
        },
        "id": "7yJfC1U1xvim",
        "outputId": "cfb0435d-496e-4bba-ae2e-c7af34fcb356"
      },
      "execution_count": 9,
      "outputs": [
        {
          "output_type": "stream",
          "name": "stdout",
          "text": [
            "torch.Size([16, 1])\n"
          ]
        }
      ]
    },
    {
      "cell_type": "code",
      "source": [
        "# Initial Weight\n",
        "def initialize_weights(model):\n",
        "    classname = model.__class__.__name__\n",
        "\n",
        "    if classname.find(\"Linear\") != -1:\n",
        "        nn.init.normal_(model.weight.data, 0.0, 0.02)\n",
        "        nn.init.constant_(model.bias.data, 0)\n",
        "\n",
        "    elif classname.find(\"BatchNorm\") != -1:\n",
        "        nn.init.normal_(model.weight.data, 1.0, 0.02)\n",
        "        nn.init.constant_(model.bias.data, 0)\n",
        "\n",
        "model_gen.apply(initialize_weights)\n",
        "model_dis.apply(initialize_weights)"
      ],
      "metadata": {
        "colab": {
          "base_uri": "https://localhost:8080/"
        },
        "id": "BCw4g4lYzQUc",
        "outputId": "cd8f9067-918d-469b-c5d4-bcfeb20fcbf4"
      },
      "execution_count": 10,
      "outputs": [
        {
          "output_type": "execute_result",
          "data": {
            "text/plain": [
              "Discriminator(\n",
              "  (label_embedding): Embedding(10, 10)\n",
              "  (dis): Sequential(\n",
              "    (0): Linear(in_features=794, out_features=512, bias=True)\n",
              "    (1): LeakyReLU(negative_slope=0.2)\n",
              "    (2): Linear(in_features=512, out_features=512, bias=True)\n",
              "    (3): Dropout(p=0.4, inplace=False)\n",
              "    (4): LeakyReLU(negative_slope=0.2)\n",
              "    (5): Linear(in_features=512, out_features=512, bias=True)\n",
              "    (6): Dropout(p=0.4, inplace=False)\n",
              "    (7): LeakyReLU(negative_slope=0.2)\n",
              "    (8): Linear(in_features=512, out_features=1, bias=True)\n",
              "    (9): Sigmoid()\n",
              "  )\n",
              ")"
            ]
          },
          "metadata": {},
          "execution_count": 10
        }
      ]
    },
    {
      "cell_type": "code",
      "source": [
        "loss_func = nn.BCELoss()\n",
        "\n",
        "from torch import optim\n",
        "\n",
        "lr = 2e-4\n",
        "beta1 = 0.5\n",
        "beta2 = 0.999\n",
        "\n",
        "\n",
        "opt_dis = optim.Adam(model_dis.parameters(), lr=lr, betas=(beta1, beta2))\n",
        "opt_gen = optim.Adam(model_gen.parameters(), lr=lr, betas=(beta1, beta2))\n",
        "\n",
        "nz = params.get(\"noise_z\")\n",
        "num_epochs = 100\n",
        "\n",
        "loss_history = {\"gen\":[], \"dis\":[]}"
      ],
      "metadata": {
        "id": "RaCYSZjTchIr"
      },
      "execution_count": 11,
      "outputs": []
    },
    {
      "cell_type": "code",
      "source": [
        "batch_count = 0\n",
        "start_time = time.time()\n",
        "model_dis.train()\n",
        "model_gen.train()\n",
        "\n",
        "for epoch in range(num_epochs):\n",
        "    for xb, yb in train_data_loader:\n",
        "        batch_size = xb.shape[0]\n",
        "\n",
        "        xb, yb = xb.to(device), yb.to(device)\n",
        "\n",
        "        yb_real = torch.ones((batch_size, 1), device=device)\n",
        "        yb_fake = torch.zeros((batch_size, 1), device=device)\n",
        "\n",
        "        model_gen.zero_grad()\n",
        "        noise = torch.randn(batch_size, 100).to(device)\n",
        "        gen_label = torch.randint(0, 10, (batch_size, )).to(device)\n",
        "\n",
        "        out_gen = model_gen(noise, gen_label)\n",
        "\n",
        "        out_dis = model_dis(out_gen, gen_label)\n",
        "\n",
        "        loss_gen = loss_func(out_dis, yb_real)\n",
        "        loss_gen.backward()\n",
        "\n",
        "        opt_gen.step()\n",
        "\n",
        "\n",
        "        opt_dis.zero_grad()\n",
        "\n",
        "        out_dis = model_dis(xb, yb)\n",
        "        loss_real = loss_func(out_dis, yb_real)\n",
        "\n",
        "        out_dis = model_dis(out_gen.detach(), gen_label)\n",
        "        loss_fake = loss_func(out_dis, yb_fake)\n",
        "\n",
        "        loss_dis = (loss_real+loss_fake) / 2\n",
        "\n",
        "        loss_dis.backward()\n",
        "        opt_dis.step()\n",
        "\n",
        "        loss_history[\"gen\"].append(loss_gen.item())\n",
        "        loss_history[\"dis\"].append(loss_dis.item())\n",
        "\n",
        "        batch_count += 1\n",
        "        if batch_count % 1000 == 0:\n",
        "            print('Epoch: %.0f, G_Loss: %.6f, D_Loss: %.6f, time: %.2f min' %(epoch, loss_gen.item(), loss_dis.item(), (time.time()-start_time)/60))\n",
        "        "
      ],
      "metadata": {
        "colab": {
          "base_uri": "https://localhost:8080/"
        },
        "id": "OIJ4fr3sc8mh",
        "outputId": "4b9d3530-6aa9-4304-d83b-3f4f1537e60f"
      },
      "execution_count": 12,
      "outputs": [
        {
          "output_type": "stream",
          "name": "stdout",
          "text": [
            "Epoch: 1, G_Loss: 0.342187, D_Loss: 0.781723, time: 0.33 min\n",
            "Epoch: 2, G_Loss: 1.184231, D_Loss: 0.380431, time: 0.67 min\n",
            "Epoch: 3, G_Loss: 0.954613, D_Loss: 0.585345, time: 1.00 min\n",
            "Epoch: 4, G_Loss: 1.615769, D_Loss: 0.440364, time: 1.34 min\n",
            "Epoch: 5, G_Loss: 1.957145, D_Loss: 0.474668, time: 1.67 min\n",
            "Epoch: 6, G_Loss: 1.494287, D_Loss: 0.302080, time: 2.00 min\n",
            "Epoch: 7, G_Loss: 2.117360, D_Loss: 0.384505, time: 2.34 min\n",
            "Epoch: 8, G_Loss: 1.231537, D_Loss: 0.495049, time: 2.67 min\n",
            "Epoch: 9, G_Loss: 1.234041, D_Loss: 0.360533, time: 3.00 min\n",
            "Epoch: 10, G_Loss: 1.208939, D_Loss: 0.300197, time: 3.34 min\n",
            "Epoch: 11, G_Loss: 1.287525, D_Loss: 0.389971, time: 3.67 min\n",
            "Epoch: 12, G_Loss: 2.429752, D_Loss: 0.304824, time: 4.00 min\n",
            "Epoch: 13, G_Loss: 2.330787, D_Loss: 0.312562, time: 4.34 min\n",
            "Epoch: 14, G_Loss: 2.015189, D_Loss: 0.199389, time: 4.67 min\n",
            "Epoch: 15, G_Loss: 1.931990, D_Loss: 0.444634, time: 5.00 min\n",
            "Epoch: 17, G_Loss: 2.026120, D_Loss: 0.283462, time: 5.34 min\n",
            "Epoch: 18, G_Loss: 2.012649, D_Loss: 0.203183, time: 5.68 min\n",
            "Epoch: 19, G_Loss: 1.061899, D_Loss: 0.463183, time: 6.01 min\n",
            "Epoch: 20, G_Loss: 1.600921, D_Loss: 0.363862, time: 6.34 min\n",
            "Epoch: 21, G_Loss: 3.186462, D_Loss: 0.339661, time: 6.68 min\n",
            "Epoch: 22, G_Loss: 2.219278, D_Loss: 0.223999, time: 7.01 min\n",
            "Epoch: 23, G_Loss: 1.959033, D_Loss: 0.209801, time: 7.35 min\n",
            "Epoch: 24, G_Loss: 2.294666, D_Loss: 0.483443, time: 7.68 min\n",
            "Epoch: 25, G_Loss: 2.245334, D_Loss: 0.220876, time: 8.02 min\n",
            "Epoch: 26, G_Loss: 2.269247, D_Loss: 0.277746, time: 8.35 min\n",
            "Epoch: 27, G_Loss: 2.606201, D_Loss: 0.150972, time: 8.68 min\n",
            "Epoch: 28, G_Loss: 3.245772, D_Loss: 0.234838, time: 9.02 min\n",
            "Epoch: 29, G_Loss: 1.998939, D_Loss: 0.213776, time: 9.35 min\n",
            "Epoch: 30, G_Loss: 2.671284, D_Loss: 0.184217, time: 9.69 min\n",
            "Epoch: 31, G_Loss: 2.798533, D_Loss: 0.294650, time: 10.02 min\n",
            "Epoch: 33, G_Loss: 2.155928, D_Loss: 0.359967, time: 10.35 min\n",
            "Epoch: 34, G_Loss: 4.528401, D_Loss: 0.574139, time: 10.69 min\n",
            "Epoch: 35, G_Loss: 1.981991, D_Loss: 0.203214, time: 11.02 min\n",
            "Epoch: 36, G_Loss: 2.752601, D_Loss: 0.362831, time: 11.35 min\n",
            "Epoch: 37, G_Loss: 2.284274, D_Loss: 0.290464, time: 11.69 min\n",
            "Epoch: 38, G_Loss: 2.267660, D_Loss: 0.330330, time: 12.02 min\n",
            "Epoch: 39, G_Loss: 1.989327, D_Loss: 0.243665, time: 12.35 min\n",
            "Epoch: 40, G_Loss: 2.276130, D_Loss: 0.278314, time: 12.69 min\n",
            "Epoch: 41, G_Loss: 2.004531, D_Loss: 0.319523, time: 13.02 min\n",
            "Epoch: 42, G_Loss: 2.896309, D_Loss: 0.206778, time: 13.35 min\n",
            "Epoch: 43, G_Loss: 2.895273, D_Loss: 0.320031, time: 13.69 min\n",
            "Epoch: 44, G_Loss: 2.666687, D_Loss: 0.250690, time: 14.02 min\n",
            "Epoch: 45, G_Loss: 2.023303, D_Loss: 0.354855, time: 14.36 min\n",
            "Epoch: 46, G_Loss: 2.755989, D_Loss: 0.255013, time: 14.69 min\n",
            "Epoch: 47, G_Loss: 1.926037, D_Loss: 0.323293, time: 15.03 min\n",
            "Epoch: 49, G_Loss: 2.565017, D_Loss: 0.339388, time: 15.36 min\n",
            "Epoch: 50, G_Loss: 1.569732, D_Loss: 0.448847, time: 15.69 min\n",
            "Epoch: 51, G_Loss: 3.080288, D_Loss: 0.342281, time: 16.02 min\n",
            "Epoch: 52, G_Loss: 2.783675, D_Loss: 0.197095, time: 16.36 min\n",
            "Epoch: 53, G_Loss: 1.585733, D_Loss: 0.368222, time: 16.69 min\n",
            "Epoch: 54, G_Loss: 3.040687, D_Loss: 0.173262, time: 17.02 min\n",
            "Epoch: 55, G_Loss: 2.221961, D_Loss: 0.269875, time: 17.36 min\n",
            "Epoch: 56, G_Loss: 1.976674, D_Loss: 0.311952, time: 17.69 min\n",
            "Epoch: 57, G_Loss: 2.603364, D_Loss: 0.449234, time: 18.03 min\n",
            "Epoch: 58, G_Loss: 2.355001, D_Loss: 0.273552, time: 18.36 min\n",
            "Epoch: 59, G_Loss: 2.088484, D_Loss: 0.279041, time: 18.70 min\n",
            "Epoch: 60, G_Loss: 2.407907, D_Loss: 0.199653, time: 19.03 min\n",
            "Epoch: 61, G_Loss: 2.281133, D_Loss: 0.199968, time: 19.36 min\n",
            "Epoch: 62, G_Loss: 2.851806, D_Loss: 0.226443, time: 19.69 min\n",
            "Epoch: 63, G_Loss: 2.408718, D_Loss: 0.364906, time: 20.02 min\n",
            "Epoch: 65, G_Loss: 2.483840, D_Loss: 0.308433, time: 20.36 min\n",
            "Epoch: 66, G_Loss: 2.335822, D_Loss: 0.333256, time: 20.69 min\n",
            "Epoch: 67, G_Loss: 2.549671, D_Loss: 0.143377, time: 21.02 min\n",
            "Epoch: 68, G_Loss: 2.955850, D_Loss: 0.329683, time: 21.36 min\n",
            "Epoch: 69, G_Loss: 1.712338, D_Loss: 0.383882, time: 21.69 min\n",
            "Epoch: 70, G_Loss: 1.864064, D_Loss: 0.295405, time: 22.02 min\n",
            "Epoch: 71, G_Loss: 2.509262, D_Loss: 0.220610, time: 22.36 min\n",
            "Epoch: 72, G_Loss: 2.722398, D_Loss: 0.275129, time: 22.69 min\n",
            "Epoch: 73, G_Loss: 2.895257, D_Loss: 0.201558, time: 23.02 min\n",
            "Epoch: 74, G_Loss: 2.607930, D_Loss: 0.240946, time: 23.36 min\n",
            "Epoch: 75, G_Loss: 3.561143, D_Loss: 0.255507, time: 23.69 min\n",
            "Epoch: 76, G_Loss: 2.469906, D_Loss: 0.334887, time: 24.03 min\n",
            "Epoch: 77, G_Loss: 2.448560, D_Loss: 0.446550, time: 24.36 min\n",
            "Epoch: 78, G_Loss: 2.329714, D_Loss: 0.389854, time: 24.69 min\n",
            "Epoch: 79, G_Loss: 2.239193, D_Loss: 0.356448, time: 25.03 min\n",
            "Epoch: 81, G_Loss: 2.026234, D_Loss: 0.251209, time: 25.36 min\n",
            "Epoch: 82, G_Loss: 2.155445, D_Loss: 0.251646, time: 25.69 min\n",
            "Epoch: 83, G_Loss: 2.691095, D_Loss: 0.314715, time: 26.02 min\n",
            "Epoch: 84, G_Loss: 1.612947, D_Loss: 0.419337, time: 26.36 min\n",
            "Epoch: 85, G_Loss: 2.953594, D_Loss: 0.180391, time: 26.69 min\n",
            "Epoch: 86, G_Loss: 2.756117, D_Loss: 0.300321, time: 27.02 min\n",
            "Epoch: 87, G_Loss: 2.342136, D_Loss: 0.310221, time: 27.36 min\n",
            "Epoch: 88, G_Loss: 1.634020, D_Loss: 0.479576, time: 27.69 min\n",
            "Epoch: 89, G_Loss: 2.889577, D_Loss: 0.488161, time: 28.02 min\n",
            "Epoch: 90, G_Loss: 2.266387, D_Loss: 0.232437, time: 28.35 min\n",
            "Epoch: 91, G_Loss: 1.781719, D_Loss: 0.346504, time: 28.69 min\n",
            "Epoch: 92, G_Loss: 1.664571, D_Loss: 0.343660, time: 29.02 min\n",
            "Epoch: 93, G_Loss: 1.655017, D_Loss: 0.436820, time: 29.36 min\n",
            "Epoch: 94, G_Loss: 1.282252, D_Loss: 0.516139, time: 29.69 min\n",
            "Epoch: 95, G_Loss: 2.248758, D_Loss: 0.224697, time: 30.03 min\n",
            "Epoch: 97, G_Loss: 2.423749, D_Loss: 0.284576, time: 30.36 min\n",
            "Epoch: 98, G_Loss: 2.242664, D_Loss: 0.366047, time: 30.69 min\n",
            "Epoch: 99, G_Loss: 2.095552, D_Loss: 0.212645, time: 31.02 min\n"
          ]
        }
      ]
    },
    {
      "cell_type": "code",
      "source": [
        "# plot loss history\n",
        "plt.figure(figsize=(10,5))\n",
        "plt.title('Loss Progress')\n",
        "plt.plot(loss_history['gen'], label='Gen. Loss')\n",
        "plt.plot(loss_history['dis'], label='Dis. Loss')\n",
        "plt.xlabel('batch count')\n",
        "plt.ylabel('Loss')\n",
        "plt.legend()\n",
        "plt.show()"
      ],
      "metadata": {
        "colab": {
          "base_uri": "https://localhost:8080/",
          "height": 350
        },
        "id": "w4e34k_Xe20R",
        "outputId": "4c2ea217-25d9-456e-e3ce-48ab14c388a1"
      },
      "execution_count": 13,
      "outputs": [
        {
          "output_type": "display_data",
          "data": {
            "text/plain": [
              "<Figure size 720x360 with 1 Axes>"
            ],
            "image/png": "[encoded data removed]"
          },
          "metadata": {
            "needs_background": "light"
          }
        }
      ]
    },
    {
      "cell_type": "code",
      "source": [
        "path2models = './models/'\n",
        "os.makedirs(path2models, exist_ok=True)\n",
        "path2weights_gen = os.path.join(path2models, 'weights_gen.pt')\n",
        "path2weights_dis = os.path.join(path2models, 'weights_dis.pt')\n",
        "\n",
        "torch.save(model_gen.state_dict(), path2weights_gen)\n",
        "torch.save(model_dis.state_dict(), path2weights_dis)"
      ],
      "metadata": {
        "id": "TEe35eB5oDxF"
      },
      "execution_count": 14,
      "outputs": []
    },
    {
      "cell_type": "code",
      "source": [
        "# 가중치 불러오기\n",
        "weights = torch.load(path2weights_gen)\n",
        "model_gen.load_state_dict(weights)\n",
        "\n",
        "# evalutaion mode\n",
        "model_gen.eval()\n",
        "\n",
        "# fake image 생성\n",
        "with torch.no_grad():\n",
        "    fig = plt.figure(figsize=(8,8))\n",
        "    cols, rows = 4, 4 # row와 col 갯수\n",
        "    for i in range(rows * cols):\n",
        "        fixed_noise = torch.randn(16, 100, device=device)\n",
        "        label = torch.randint(0,10,(16,), device=device)\n",
        "        print(label)\n",
        "        img_fake = model_gen(fixed_noise, label).detach().cpu()\n",
        "        fig.add_subplot(rows, cols, i+1)\n",
        "        plt.title(label[i].item())\n",
        "        plt.axis('off')\n",
        "        plt.imshow(img_fake[i].squeeze(), cmap='gray')\n",
        "plt.show()"
      ],
      "metadata": {
        "colab": {
          "base_uri": "https://localhost:8080/",
          "height": 768
        },
        "id": "BH1rfi3XoSs8",
        "outputId": "5f7fcc78-5f1c-4707-f3f2-782d53617981"
      },
      "execution_count": 15,
      "outputs": [
        {
          "output_type": "stream",
          "name": "stdout",
          "text": [
            "tensor([3, 6, 2, 2, 2, 2, 1, 3, 9, 7, 2, 3, 3, 0, 1, 7], device='cuda:0')\n",
            "tensor([6, 3, 8, 0, 1, 9, 0, 0, 9, 5, 1, 3, 7, 3, 3, 1], device='cuda:0')\n",
            "tensor([6, 5, 2, 8, 2, 4, 3, 7, 9, 8, 5, 9, 6, 8, 8, 4], device='cuda:0')\n",
            "tensor([0, 2, 5, 8, 1, 5, 5, 0, 2, 1, 5, 4, 2, 9, 3, 3], device='cuda:0')\n",
            "tensor([5, 8, 7, 0, 6, 6, 6, 0, 6, 0, 9, 8, 8, 6, 8, 7], device='cuda:0')\n",
            "tensor([5, 4, 3, 9, 3, 2, 1, 0, 6, 4, 0, 0, 1, 5, 5, 7], device='cuda:0')\n",
            "tensor([7, 1, 7, 8, 5, 9, 1, 4, 6, 7, 0, 2, 6, 8, 8, 8], device='cuda:0')\n",
            "tensor([2, 9, 5, 0, 1, 5, 5, 2, 5, 2, 7, 8, 9, 4, 2, 4], device='cuda:0')\n",
            "tensor([0, 6, 7, 9, 0, 9, 2, 2, 7, 7, 3, 7, 9, 7, 0, 7], device='cuda:0')\n",
            "tensor([1, 5, 1, 8, 9, 5, 8, 4, 3, 7, 8, 1, 9, 2, 1, 2], device='cuda:0')\n",
            "tensor([6, 9, 6, 2, 1, 8, 5, 9, 4, 5, 8, 8, 2, 8, 6, 4], device='cuda:0')\n",
            "tensor([0, 9, 6, 2, 3, 5, 3, 4, 7, 9, 6, 5, 2, 2, 9, 7], device='cuda:0')\n",
            "tensor([5, 8, 5, 5, 4, 3, 4, 6, 9, 6, 5, 9, 1, 2, 6, 0], device='cuda:0')\n",
            "tensor([5, 9, 1, 4, 9, 0, 2, 4, 0, 8, 7, 6, 3, 6, 6, 9], device='cuda:0')\n",
            "tensor([3, 1, 4, 1, 6, 0, 4, 4, 6, 5, 0, 4, 1, 9, 0, 6], device='cuda:0')\n",
            "tensor([3, 1, 7, 5, 8, 3, 8, 4, 4, 8, 4, 7, 1, 0, 0, 1], device='cuda:0')\n"
          ]
        },
        {
          "output_type": "display_data",
          "data": {
            "text/plain": [
              "<Figure size 576x576 with 16 Axes>"
            ],
            "image/png": "[encoded data removed]"
          },
          "metadata": {
            "needs_background": "light"
          }
        }
      ]
    },
    {
      "cell_type": "code",
      "source": [],
      "metadata": {
        "id": "1yCgUsKconCR"
      },
      "execution_count": null,
      "outputs": []
    }
  ]
}