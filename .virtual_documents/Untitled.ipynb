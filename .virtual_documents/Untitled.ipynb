import torch
import numpy as np


import matplotlib.pyplot as plt

x = np.linspace(1, 10, 100)
y = x**3


plt.plot(x, y)



